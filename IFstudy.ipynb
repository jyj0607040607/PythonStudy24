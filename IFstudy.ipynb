{
  "nbformat": 4,
  "nbformat_minor": 0,
  "metadata": {
    "colab": {
      "provenance": [],
      "authorship_tag": "ABX9TyP9V670bvg0jJGRTShxQBqx",
      "include_colab_link": true
    },
    "kernelspec": {
      "name": "python3",
      "display_name": "Python 3"
    },
    "language_info": {
      "name": "python"
    }
  },
  "cells": [
    {
      "cell_type": "markdown",
      "metadata": {
        "id": "view-in-github",
        "colab_type": "text"
      },
      "source": [
        "<a href=\"https://colab.research.google.com/github/jyj0607040607/PythonStudy24/blob/master/IFstudy.ipynb\" target=\"_parent\"><img src=\"https://colab.research.google.com/assets/colab-badge.svg\" alt=\"Open In Colab\"/></a>"
      ]
    },
    {
      "cell_type": "markdown",
      "source": [
        "프로그램의 판단을 할 수 있는 조건문은 if문를 사용해본다.\n",
        "\n",
        "if문은 만약에 라는 의미를 가지고 있고 결과는 참, 거짓으로 판단한다."
      ],
      "metadata": {
        "id": "UfpejLNinxbo"
      }
    },
    {
      "cell_type": "code",
      "execution_count": 4,
      "metadata": {
        "colab": {
          "base_uri": "https://localhost:8080/"
        },
        "id": "_bzWn5iunpPb",
        "outputId": "3e6404c8-2969-4fc2-8a4a-c87e9508167f"
      },
      "outputs": [
        {
          "output_type": "stream",
          "name": "stdout",
          "text": [
            "==========\n",
            "걸어가라\n",
            "==========\n"
          ]
        }
      ],
      "source": [
        "# 돈이 있으면 택시를 타고 가고, 돈이 없으면 걸어간다.\n",
        "\n",
        "money = False        # 돈이 있으면\n",
        "if money:           # 파이썬에는 {} 없기 때문에 : 으로 구문을 내림\n",
        "    print(\"택시를 타고 가라\")     # True일때 처리 (하위 처리를 위해서 띄어쓰기 4번을 진행)\n",
        "    print(\"모범택시는 비싸니 다음 택시를 기다리라\")\n",
        "    print(\"택시를 안보이면 카카오택시를 불러라\")\n",
        "else:                             # False 일때 처리\n",
        "    print(\"==========\")\n",
        "    print(\"걸어가라\")             # False용 처리\n",
        "    print(\"==========\")"
      ]
    },
    {
      "cell_type": "code",
      "source": [
        "money = 6000\n",
        "if money >= 3000:               # if 뒤에 써지는 문장이 조건이 됨 :\n",
        "    print(\"택시를 타고 가라\")   # True\n",
        "else:\n",
        "    print(\"걸어가라\")           # False"
      ],
      "metadata": {
        "colab": {
          "base_uri": "https://localhost:8080/"
        },
        "id": "62SYaxbmv3Yu",
        "outputId": "20cd3882-a5bf-49f0-91b8-de8bfac8e815"
      },
      "execution_count": 7,
      "outputs": [
        {
          "output_type": "stream",
          "name": "stdout",
          "text": [
            "택시를 타고 가라\n"
          ]
        }
      ]
    },
    {
      "cell_type": "code",
      "source": [
        "# x or y -> 또는 ( 둘 중 하나만 참이어도 참 )\n",
        "#  x and y -> ~ 이고 (둘 다 참이어야 참 )\n",
        "# not x -> x가 아니면 참(거짓, 반전)\n",
        "\n",
        "# 돈이 3000원 이상 있거나 카드가 있다면 택시를 타고 가고, 아니면 걸어가라\n",
        "\n",
        "money = 2000\n",
        "card = True\n",
        "\n",
        "if money >= 3000 or card:\n",
        "    print(\"택시를 타고 가라\")\n",
        "else:\n",
        "    print(\"걸어가라\")\n",
        "\n",
        "# or 연산 진리표\n",
        "# money   or   card    =    결과\n",
        "#   0           0      =      0\n",
        "#   1           0      =      1\n",
        "#   0           1      =      1\n",
        "#   1           1      =      1"
      ],
      "metadata": {
        "id": "twkdiEwXwa5G"
      },
      "execution_count": null,
      "outputs": []
    },
    {
      "cell_type": "code",
      "source": [
        "# in           ,    not in\n",
        "# x in 리스트  ,    x not in 리스트\n",
        "# x in 튜플    ,    x not in 튜플\n",
        "# x in 문자열  ,    x not in 문자열\n",
        "\n",
        "1 not in [1, 2, 3]"
      ],
      "metadata": {
        "colab": {
          "base_uri": "https://localhost:8080/"
        },
        "id": "SwH4RCjIy7c-",
        "outputId": "5fc12859-0692-4e24-fea6-e1c4d3b75160"
      },
      "execution_count": 8,
      "outputs": [
        {
          "output_type": "execute_result",
          "data": {
            "text/plain": [
              "False"
            ]
          },
          "metadata": {},
          "execution_count": 8
        }
      ]
    },
    {
      "cell_type": "code",
      "source": [
        "'a' in ('a', 'b', 'c')   # 튜플"
      ],
      "metadata": {
        "colab": {
          "base_uri": "https://localhost:8080/"
        },
        "id": "dm7IFimFzpB9",
        "outputId": "b2a678e9-2588-493f-fe63-487d0f9e1332"
      },
      "execution_count": 9,
      "outputs": [
        {
          "output_type": "execute_result",
          "data": {
            "text/plain": [
              "True"
            ]
          },
          "metadata": {},
          "execution_count": 9
        }
      ]
    },
    {
      "cell_type": "code",
      "source": [
        "'j' not in 'python'"
      ],
      "metadata": {
        "colab": {
          "base_uri": "https://localhost:8080/"
        },
        "id": "wuU0YO1iz181",
        "outputId": "cd40afbe-89a1-4cf6-d771-919595325cd5"
      },
      "execution_count": 10,
      "outputs": [
        {
          "output_type": "execute_result",
          "data": {
            "text/plain": [
              "True"
            ]
          },
          "metadata": {},
          "execution_count": 10
        }
      ]
    },
    {
      "cell_type": "code",
      "source": [
        "# 만약 주머니에 돈이 있으면 택시를 타고가고, 없으면 걸어가라\n",
        "pocket = ['paper', 'cellphone', 'money']\n",
        "\n",
        "if 'money' in pocket :\n",
        "  print (\"택시를 타고 가라\")\n",
        "else :\n",
        "  print(\"걸어가라\")"
      ],
      "metadata": {
        "colab": {
          "base_uri": "https://localhost:8080/"
        },
        "id": "zhH3bm_Z2g9t",
        "outputId": "150415ba-f1ad-4bb8-8b67-e68da54f414d"
      },
      "execution_count": 11,
      "outputs": [
        {
          "output_type": "stream",
          "name": "stdout",
          "text": [
            "택시를 타고 가라\n"
          ]
        }
      ]
    },
    {
      "cell_type": "code",
      "source": [
        "# 조건문에서 아무 일도 하지 않고 설정하고 싶을 때 pass\n",
        "# 조건문의 참, 거짓에 따라 실행할 행동을 정의할 때나 아무런 일도 하지 않도록 설정하고 싶을 때\n",
        "\n",
        "# 주머니에 돈이 있으면 가만히 있고, 주머니에 돈이 없으면 카드를 꺼내라.\n",
        "\n",
        "pocket = ['paper', 'smartPhone' 'card']\n",
        "if 'money' in pocket:\n",
        "    pass            # skip 같은 의미\n",
        "else :\n",
        "    print(\"카드를 꺼내라\")"
      ],
      "metadata": {
        "colab": {
          "base_uri": "https://localhost:8080/"
        },
        "id": "Lf2Zg8_K3QaV",
        "outputId": "528d9d8b-dc08-41e8-9f5e-5d9bc4829e77"
      },
      "execution_count": 16,
      "outputs": [
        {
          "output_type": "stream",
          "name": "stdout",
          "text": [
            "카드를 꺼내라\n"
          ]
        }
      ]
    },
    {
      "cell_type": "code",
      "source": [
        "# elif는 if문 아래쪽에 한번 더 비교하는 조건문 (elif의 사용회수는 무제한)\n",
        "\n",
        "# 주머니에 돈이 있으면 택시를 타고 가고,\n",
        "# 주머니에 돈은 없지만 카드가 있으면 택시를 타고 가고,\n",
        "# 주머니에 돈도 없고, 카드도 없으면 걸어가라.\n",
        "\n",
        "pocket = ['paper', 'cellphone']\n",
        "card = True\n",
        "\n",
        "if 'money' in pocket:\n",
        "    print(\"택시를 타고 가라\")\n",
        "elif card:\n",
        "    print(\"택시를 타고 가라\")\n",
        "else:\n",
        "    print(\"걸어가라\")"
      ],
      "metadata": {
        "colab": {
          "base_uri": "https://localhost:8080/"
        },
        "id": "bXiReLUv7UI8",
        "outputId": "04fa8c7b-6afb-46b0-e409-e39db96b8ccb"
      },
      "execution_count": 17,
      "outputs": [
        {
          "output_type": "stream",
          "name": "stdout",
          "text": [
            "택시를 타고 가라\n"
          ]
        }
      ]
    },
    {
      "cell_type": "code",
      "source": [
        "# 패션코딩 -> 최대한 간결하게 코딩하는 기법\n",
        "\n",
        "pocket = ['paper', 'cellphone']\n",
        "card = True\n",
        "\n",
        "if 'money' in pocket: print(\"택시를 타고 가라\")\n",
        "elif card: print(\"택시를 타고 가라\")\n",
        "else: print(\"걸어가라\")"
      ],
      "metadata": {
        "colab": {
          "base_uri": "https://localhost:8080/"
        },
        "id": "zqzhR5fn-6db",
        "outputId": "8ad1443c-a857-4a97-9b97-05ca222cc5ba"
      },
      "execution_count": 18,
      "outputs": [
        {
          "output_type": "stream",
          "name": "stdout",
          "text": [
            "택시를 타고 가라\n"
          ]
        }
      ]
    },
    {
      "cell_type": "code",
      "source": [
        "# 시험 점수가 60점 이상이면 success, 아니면 failure를 변수에 담아 출력 해보자."
      ],
      "metadata": {
        "id": "fABqZAdt_TZS"
      },
      "execution_count": null,
      "outputs": []
    },
    {
      "cell_type": "code",
      "source": [
        "score = 88\n",
        "\n",
        "if score >= 60:\n",
        "    message = \"success\"\n",
        "else:\n",
        "    message = \"failure\"\n",
        "\n",
        "print(message)"
      ],
      "metadata": {
        "colab": {
          "base_uri": "https://localhost:8080/"
        },
        "id": "P4HMYbJj_fkD",
        "outputId": "3e277bdf-9107-460a-f07c-ef875ab3cc05"
      },
      "execution_count": 21,
      "outputs": [
        {
          "output_type": "stream",
          "name": "stdout",
          "text": [
            "success\n"
          ]
        }
      ]
    },
    {
      "cell_type": "code",
      "source": [
        "# 파이썬의 조건부 표현식\n",
        "# 변수 = 참인경우의 값 if 조건문 else 거짓인경우의 값\n",
        "message = \"success\" if score >= 60 else \"failure\"\n",
        "print(message)"
      ],
      "metadata": {
        "colab": {
          "base_uri": "https://localhost:8080/"
        },
        "id": "f2g-tYYKAEEK",
        "outputId": "2ed7da93-988c-4a86-f795-2f89a29614e5"
      },
      "execution_count": 22,
      "outputs": [
        {
          "output_type": "stream",
          "name": "stdout",
          "text": [
            "success\n"
          ]
        }
      ]
    },
    {
      "cell_type": "code",
      "source": [
        "# 미션\n",
        "# 성적처리용 코드 작성 a등급 ~ f등급까지 출력\n",
        "\n",
        "score = input(\"점수를 입력하세요!!!\")"
      ],
      "metadata": {
        "colab": {
          "base_uri": "https://localhost:8080/"
        },
        "id": "ACjMoeOHA6lb",
        "outputId": "2b0a1c8b-8136-43a0-d7b0-a4c75a07a7e9"
      },
      "execution_count": 24,
      "outputs": [
        {
          "name": "stdout",
          "output_type": "stream",
          "text": [
            "점수를 입력하세요!!!56\n"
          ]
        }
      ]
    },
    {
      "cell_type": "code",
      "source": [
        "korean = int(input(\"국어점수를 입력하세요 :\"))\n",
        "math = int(input(\"수학점수를 입력하세요 :\"))\n",
        "english = int(input(\"영어점수를 입력하세요 :\"))\n",
        "sum = korean + math + english\n",
        "avg = sum / 3\n",
        "print(\"국어등급\")\n",
        "if int(korean) >=90 :\n",
        "    print(\"A\")\n",
        "elif int(korean) >=80:\n",
        "    print(\"B\")\n",
        "elif int(korean) >=70:\n",
        "    print(\"C\")\n",
        "elif int(korean) >=60:\n",
        "    print(\"D\")\n",
        "else:\n",
        "    print(\"F\")\n",
        "\n",
        "print(\"수학등급\")\n",
        "if int(math) >=90 :\n",
        "    print(\"A\")\n",
        "elif int(math) >=80:\n",
        "    print(\"B\")\n",
        "elif int(math) >=70:\n",
        "    print(\"C\")\n",
        "elif int(math) >=60:\n",
        "    print(\"D\")\n",
        "else:\n",
        "    print(\"F\")\n",
        "\n",
        "print(\"영어등급\")\n",
        "if (english ) >=90 :\n",
        "    print(\"A\")\n",
        "elif (english ) >=80:\n",
        "    print(\"B\")\n",
        "elif (english ) >=70:\n",
        "    print(\"C\")\n",
        "elif (english ) >=60:\n",
        "    print(\"D\")\n",
        "else:\n",
        "    print(\"F\")"
      ],
      "metadata": {
        "colab": {
          "base_uri": "https://localhost:8080/"
        },
        "id": "IxHwnaeoBDuK",
        "outputId": "e78cd2b9-b381-42f7-d3e2-95294b8436a4"
      },
      "execution_count": 27,
      "outputs": [
        {
          "output_type": "stream",
          "name": "stdout",
          "text": [
            "국어점수를 입력하세요 :88\n",
            "수학점수를 입력하세요 :77\n",
            "영어점수를 입력하세요 :66\n",
            "국어등급\n",
            "B\n",
            "수학등급\n",
            "C\n",
            "영어등급\n",
            "D\n"
          ]
        }
      ]
    },
    {
      "cell_type": "code",
      "source": [
        "korean = int(input(\"국어점수를 입력하세요 :\"))\n",
        "math = int(input(\"수학점수를 입력하세요 :\"))\n",
        "english = int(input(\"영어점수를 입력하세요 :\"))\n",
        "if not score.isdigit():\n",
        "    print(\"잘못된 점수가 입력되었습니다.\")\n",
        "else:\n",
        "    sum = korean + math + english\n",
        "    avg = sum / 3\n",
        "    print(\"총점 : \", sum)\n",
        "    print(\"평균 : \", avg)\n",
        "    print(\"국어등급\")\n",
        "\n",
        "if int(korean) >=90 :\n",
        "    print(\"A\")\n",
        "elif int(korean) >=80:\n",
        "    print(\"B\")\n",
        "elif int(korean) >=70:\n",
        "    print(\"C\")\n",
        "elif int(korean) >=60:\n",
        "    print(\"D\")\n",
        "else:\n",
        "    print(\"F\")\n",
        "\n",
        "print(\"수학등급\")\n",
        "if int(math) >=90 :\n",
        "    print(\"A\")\n",
        "elif int(math) >=80:\n",
        "    print(\"B\")\n",
        "elif int(math) >=70:\n",
        "    print(\"C\")\n",
        "elif int(math) >=60:\n",
        "    print(\"D\")\n",
        "else:\n",
        "    print(\"F\")\n",
        "\n",
        "print(\"영어등급\")\n",
        "if (english ) >=90 :\n",
        "    print(\"A\")\n",
        "elif (english ) >=80:\n",
        "    print(\"B\")\n",
        "elif (english ) >=70:\n",
        "    print(\"C\")\n",
        "elif (english ) >=60:\n",
        "    print(\"D\")\n",
        "else:\n",
        "    print(\"F\")"
      ],
      "metadata": {
        "colab": {
          "base_uri": "https://localhost:8080/"
        },
        "id": "kdcAncZiOVOF",
        "outputId": "e2c142be-ceeb-4139-f7cc-620d5a824878"
      },
      "execution_count": 30,
      "outputs": [
        {
          "output_type": "stream",
          "name": "stdout",
          "text": [
            "국어점수를 입력하세요 :50\n",
            "수학점수를 입력하세요 :40\n",
            "영어점수를 입력하세요 :30\n",
            "총점 :  120\n",
            "평균 :  40.0\n",
            "국어등급\n",
            "F\n",
            "수학등급\n",
            "F\n",
            "영어등급\n",
            "F\n"
          ]
        }
      ]
    }
  ]
}