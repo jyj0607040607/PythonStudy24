{
  "nbformat": 4,
  "nbformat_minor": 0,
  "metadata": {
    "colab": {
      "provenance": [],
      "authorship_tag": "ABX9TyPRcHPmU+ypGVSNJbueTbX/",
      "include_colab_link": true
    },
    "kernelspec": {
      "name": "python3",
      "display_name": "Python 3"
    },
    "language_info": {
      "name": "python"
    }
  },
  "cells": [
    {
      "cell_type": "markdown",
      "metadata": {
        "id": "view-in-github",
        "colab_type": "text"
      },
      "source": [
        "<a href=\"https://colab.research.google.com/github/jyj0607040607/PythonStudy24/blob/master/Table.ipynb\" target=\"_parent\"><img src=\"https://colab.research.google.com/assets/colab-badge.svg\" alt=\"Open In Colab\"/></a>"
      ]
    },
    {
      "cell_type": "code",
      "execution_count": 1,
      "metadata": {
        "id": "5UFu2Q3Hl-Oi"
      },
      "outputs": [],
      "source": [
        "def mul(n) :\n",
        "    return n * 3"
      ]
    },
    {
      "cell_type": "code",
      "source": [
        "def mul5(n) :\n",
        "    return n * 5"
      ],
      "metadata": {
        "id": "ESjGwQg8mi-C"
      },
      "execution_count": 2,
      "outputs": []
    },
    {
      "cell_type": "code",
      "source": [
        "# closure.py\n",
        "class Mul:\n",
        "    def __init__(self, m):\n",
        "        self.m = m\n",
        "\n",
        "    def mul(self, n):\n",
        "        return self.m * n\n",
        "\n",
        "if __name__ == \"__main__\":\n",
        "    mul3 = Mul(3)\n",
        "    mul5 = Mul(5)\n",
        "\n",
        "    print(mul3.mul(10))  # 30 출력\n",
        "    print(mul5.mul(10))  # 50 출력\n"
      ],
      "metadata": {
        "colab": {
          "base_uri": "https://localhost:8080/"
        },
        "id": "3Ec3ffpRm6sZ",
        "outputId": "b86b3b87-3f3a-423b-c865-b0c8851c9c04"
      },
      "execution_count": 4,
      "outputs": [
        {
          "output_type": "stream",
          "name": "stdout",
          "text": [
            "30\n",
            "50\n"
          ]
        }
      ]
    },
    {
      "cell_type": "code",
      "source": [
        "def mul(m) :\n",
        "    def wrapper(n) :\n",
        "        return m * n\n",
        "    return wrapper\n",
        "\n",
        "if __name__ == \"__main__\" :\n",
        "    mul3 = mul(3)\n",
        "    mul5 = mul(5)\n",
        "\n",
        "    print(mul3(10))   # 30 출력\n",
        "    print(mul5(10))   # 50 출력"
      ],
      "metadata": {
        "colab": {
          "base_uri": "https://localhost:8080/"
        },
        "id": "gMbJrRFGqs2Z",
        "outputId": "580d1657-724a-4cd9-d4bb-395814fee726"
      },
      "execution_count": 5,
      "outputs": [
        {
          "output_type": "stream",
          "name": "stdout",
          "text": [
            "30\n",
            "50\n"
          ]
        }
      ]
    },
    {
      "cell_type": "code",
      "source": [
        "def myfunc() :\n",
        "    print(\"함수가 실행합니다.\")"
      ],
      "metadata": {
        "id": "vDcOV1bOuMYZ"
      },
      "execution_count": 6,
      "outputs": []
    },
    {
      "cell_type": "code",
      "source": [
        "import time\n",
        "\n",
        "def myfunc() :\n",
        "    start = time.time()\n",
        "    print(\"함수가 실행됩니다.\")\n",
        "    end = time.time()\n",
        "    print(\"함수 수행시간 : %f 초\" % (end-start))\n",
        "\n",
        "myfunc()"
      ],
      "metadata": {
        "colab": {
          "base_uri": "https://localhost:8080/"
        },
        "id": "rnjfyKg6uTlg",
        "outputId": "fcc4294b-cb71-4be2-d6e8-75941b591ab6"
      },
      "execution_count": 7,
      "outputs": [
        {
          "output_type": "stream",
          "name": "stdout",
          "text": [
            "함수가 실행됩니다.\n",
            "함수 수행시간 : 0.000805 초\n"
          ]
        }
      ]
    },
    {
      "cell_type": "code",
      "source": [
        "import time\n",
        "\n",
        "def elapsed(original_func) :         # 기존 함수를 인수로 받는다.\n",
        "    def wrapper() :\n",
        "        start = time.time()\n",
        "        result = original_func()     # 기존 함수를 수행한다.\n",
        "        end = time.time()\n",
        "        print(\"함수 수행시간 : %f 초\" % (end - start))    # 기존 함수의 수행시간을 출력한다.\n",
        "        return result                # 기존 함수의 수행 결과를 리턴한다.\n",
        "    return wrapper\n",
        "\n",
        "def myfunc() :\n",
        "    print(\"함수가 실행됩니다.\")\n",
        "\n",
        "decorated_myfunc = elapsed(myfunc)\n",
        "decorated_myfunc()"
      ],
      "metadata": {
        "colab": {
          "base_uri": "https://localhost:8080/"
        },
        "id": "M1rFMpbYzPg5",
        "outputId": "391eb78d-e14c-489e-c20d-fed9b34d296e"
      },
      "execution_count": 10,
      "outputs": [
        {
          "output_type": "stream",
          "name": "stdout",
          "text": [
            "함수가 실행됩니다.\n",
            "함수 수행시간 : 0.000068 초\n"
          ]
        }
      ]
    },
    {
      "cell_type": "code",
      "source": [
        "import time\n",
        "\n",
        "def elapsed(original_func) :        # 기존 함수를 인수로 받는다.\n",
        "    def wrapper() :\n",
        "        start = time.time()\n",
        "        result = original_func()    # 기존 함수를 수행한다.\n",
        "        end = time.time()\n",
        "        print(\"함수 수행시간 : %f 초\" % (end - start))    # 기존 함수의 수행시간을 출력한다.\n",
        "        return result     # 기존 함수의 수행 결과를 리턴한다.\n",
        "    return wrapper\n",
        "\n",
        "def myfunc() :\n",
        "    print(\"함수가 실행됩니다.\")\n",
        "# decorated_myfunc = elapsed(myfunc)  # @elapsed 데코레이터로 인해 더이상 필요하지 않다.\n",
        "# decorated_myfunc()\n",
        "\n",
        "myfunc()"
      ],
      "metadata": {
        "colab": {
          "base_uri": "https://localhost:8080/"
        },
        "id": "83rkPWfZz96F",
        "outputId": "a06231a4-0d30-403f-8e4f-5bf4e6931f12"
      },
      "execution_count": 15,
      "outputs": [
        {
          "output_type": "stream",
          "name": "stdout",
          "text": [
            "함수가 실행됩니다.\n"
          ]
        }
      ]
    },
    {
      "cell_type": "code",
      "source": [
        "# decorator2.py\n",
        "import time\n",
        "\n",
        "def elapsed(original_func):   # 기존 합수를 인수로 받는다.\n",
        "    def wrapper(*args, **kwargs):   # *args, **kwargs 매개변수 추가\n",
        "        start = time.time()\n",
        "        result = original_func(*args, **kwargs)  # 전달받은 *args, **kwargs를 입력파라미터로 기존함수 수행\n",
        "        end = time.time()\n",
        "        print(\"함수 수행시간: %f 초\" % (end - start))  # 수행시간을 출력한다.\n",
        "        return result  # 함수의 결과를 리턴한다.\n",
        "    return wrapper\n",
        "\n",
        "@elapsed\n",
        "def myfunc(msg):\n",
        "    \"\"\" 데코레이터 확인 함수 \"\"\"\n",
        "    print(\"'%s'을 출력합니다.\" % msg)\n",
        "\n",
        "myfunc(\"You need python\")\n"
      ],
      "metadata": {
        "colab": {
          "base_uri": "https://localhost:8080/"
        },
        "id": "E6YrYqFz68zg",
        "outputId": "392eca67-4f93-44f4-d02f-f2a34d2d35ef"
      },
      "execution_count": 16,
      "outputs": [
        {
          "output_type": "stream",
          "name": "stdout",
          "text": [
            "'You need python'을 출력합니다.\n",
            "함수 수행시간: 0.000163 초\n"
          ]
        }
      ]
    }
  ]
}