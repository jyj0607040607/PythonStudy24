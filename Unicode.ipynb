{
  "nbformat": 4,
  "nbformat_minor": 0,
  "metadata": {
    "colab": {
      "provenance": [],
      "authorship_tag": "ABX9TyOYnRFkyrjSvFSbSljlr/go",
      "include_colab_link": true
    },
    "kernelspec": {
      "name": "python3",
      "display_name": "Python 3"
    },
    "language_info": {
      "name": "python"
    }
  },
  "cells": [
    {
      "cell_type": "markdown",
      "metadata": {
        "id": "view-in-github",
        "colab_type": "text"
      },
      "source": [
        "<a href=\"https://colab.research.google.com/github/jyj0607040607/PythonStudy24/blob/master/Unicode.ipynb\" target=\"_parent\"><img src=\"https://colab.research.google.com/assets/colab-badge.svg\" alt=\"Open In Colab\"/></a>"
      ]
    },
    {
      "cell_type": "code",
      "execution_count": 1,
      "metadata": {
        "id": "prU5d53FeHZ2"
      },
      "outputs": [],
      "source": [
        "a = \"Life is too short\""
      ]
    },
    {
      "cell_type": "code",
      "source": [
        "a = \"Life is too short\"\n",
        "b = a.encode('utf-8')\n",
        "b"
      ],
      "metadata": {
        "colab": {
          "base_uri": "https://localhost:8080/"
        },
        "id": "kINfqsOdeQLs",
        "outputId": "eb247a9f-5049-4a9d-edeb-db0af58216ee"
      },
      "execution_count": 2,
      "outputs": [
        {
          "output_type": "execute_result",
          "data": {
            "text/plain": [
              "b'Life is too short'"
            ]
          },
          "metadata": {},
          "execution_count": 2
        }
      ]
    },
    {
      "cell_type": "code",
      "source": [
        "b'Life is too short'\n",
        "type(b)"
      ],
      "metadata": {
        "colab": {
          "base_uri": "https://localhost:8080/"
        },
        "id": "_6-jXKdIew6M",
        "outputId": "7a33360d-e8d2-481c-8398-78764a8c3a0d"
      },
      "execution_count": 3,
      "outputs": [
        {
          "output_type": "execute_result",
          "data": {
            "text/plain": [
              "bytes"
            ]
          },
          "metadata": {},
          "execution_count": 3
        }
      ]
    },
    {
      "cell_type": "code",
      "source": [
        "b'Life is too short'\n",
        "type(b)"
      ],
      "metadata": {
        "colab": {
          "base_uri": "https://localhost:8080/"
        },
        "id": "5ijkdRl9e-J7",
        "outputId": "36da1d2f-2ba1-4529-96c6-d770bd9cd233"
      },
      "execution_count": 4,
      "outputs": [
        {
          "output_type": "execute_result",
          "data": {
            "text/plain": [
              "bytes"
            ]
          },
          "metadata": {},
          "execution_count": 4
        }
      ]
    },
    {
      "cell_type": "code",
      "source": [
        "a = '한글'\n",
        "b = a.encode('euc-kr')\n",
        "b.decode('euc-kr')"
      ],
      "metadata": {
        "colab": {
          "base_uri": "https://localhost:8080/",
          "height": 35
        },
        "id": "s2ISnHizfTWT",
        "outputId": "b82b4360-6aec-48ed-d0c3-78ce83ed61b0"
      },
      "execution_count": 6,
      "outputs": [
        {
          "output_type": "execute_result",
          "data": {
            "text/plain": [
              "'한글'"
            ],
            "application/vnd.google.colaboratory.intrinsic+json": {
              "type": "string"
            }
          },
          "metadata": {},
          "execution_count": 6
        }
      ]
    },
    {
      "cell_type": "markdown",
      "source": [
        "네트워크를 통해 데이터를 주고 받을 때\n",
        "\n",
        "\n",
        "1.   입력으로 받은 바이트 문자열은 되도록 빨리 유니코드 문자열로 디코딩한다.\n",
        "2.   함수나 클래스 등에서는 유니코드 문자열만 사용한다.\n",
        "3.   입력에 대한 결과를 전송하는 마지막 부분에서만 유니코드 문자열을 바이트 문자열로 인코딩해서 인코딩해서 반환한다.\n",
        "\n"
      ],
      "metadata": {
        "id": "P--qkkqlf5m7"
      }
    }
  ]
}