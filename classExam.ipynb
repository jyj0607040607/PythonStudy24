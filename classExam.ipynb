{
  "nbformat": 4,
  "nbformat_minor": 0,
  "metadata": {
    "colab": {
      "provenance": [],
      "authorship_tag": "ABX9TyPNrwunhUxiV4X1gPEEwks0",
      "include_colab_link": true
    },
    "kernelspec": {
      "name": "python3",
      "display_name": "Python 3"
    },
    "language_info": {
      "name": "python"
    }
  },
  "cells": [
    {
      "cell_type": "markdown",
      "metadata": {
        "id": "view-in-github",
        "colab_type": "text"
      },
      "source": [
        "<a href=\"https://colab.research.google.com/github/jyj0607040607/PythonStudy24/blob/master/classExam.ipynb\" target=\"_parent\"><img src=\"https://colab.research.google.com/assets/colab-badge.svg\" alt=\"Open In Colab\"/></a>"
      ]
    },
    {
      "cell_type": "markdown",
      "source": [
        "# 클래스는 객체지향 언어의 필수로 각각의 객체를 담당한다.\n",
        "\n",
        "# 만약 shopingMall 프로젝트를 만든다고 하면\n",
        "# 회원용.py -> 동작(메서드) C, R, U, D, other\n",
        "# 아이템.py -> 동작(메서드) C, R, U, D, other\n",
        "# 게시판.py -> 동작(메서드) C, R, U, D, other\n",
        "# 장바구니.py 등이 main.py와 연동되게 설정한다."
      ],
      "metadata": {
        "id": "atJtB2LYiqjm"
      }
    },
    {
      "cell_type": "code",
      "execution_count": null,
      "metadata": {
        "colab": {
          "base_uri": "https://localhost:8080/"
        },
        "id": "LMyYsAgTihYc",
        "outputId": "81aa6dd0-858c-413d-95a7-4f5da3abf4a0"
      },
      "outputs": [
        {
          "output_type": "stream",
          "name": "stdout",
          "text": [
            "4\n"
          ]
        }
      ],
      "source": [
        "# 계산기 처리용 클래스\n",
        "result = 0               # 결과값 처리용 변수\n",
        "\n",
        "def add(num) :\n",
        "    global result         # 전역변수 사용\n",
        "    result += num          # 메서드에 입력값을 더함\n",
        "    return result         # 결과를 보냄\n",
        "\n",
        "print(add(4))             # 위에 만든 메서드에 4를 입력하고 리턴값을 출력"
      ]
    },
    {
      "cell_type": "code",
      "source": [
        "print(add(9))"
      ],
      "metadata": {
        "colab": {
          "base_uri": "https://localhost:8080/"
        },
        "id": "e-Dvh6nOk7yl",
        "outputId": "da6f49e9-50aa-4299-d0c3-375f0623707b"
      },
      "execution_count": null,
      "outputs": [
        {
          "output_type": "stream",
          "name": "stdout",
          "text": [
            "13\n"
          ]
        }
      ]
    },
    {
      "cell_type": "code",
      "source": [
        "# 만일 한 프로그램에서 2대의 계산기가 필요한 상황이면?\n",
        "\n",
        "result1 = 0\n",
        "result2 = 0\n",
        "\n",
        "def add1(num) :\n",
        "    global result1\n",
        "    result1 += num\n",
        "    return result1\n",
        "\n",
        "def add2(num) :\n",
        "    global result2\n",
        "    result2 += num\n",
        "    return result2"
      ],
      "metadata": {
        "id": "pzGzwL4NlK1F"
      },
      "execution_count": null,
      "outputs": []
    },
    {
      "cell_type": "code",
      "source": [
        "# 클래스를 이용한 계산기\n",
        "\n",
        "class Calculator :          # 객체 생성용 (생성자용 메서드, 일반 메서드)\n",
        "\n",
        "    def __init__(self) :    # 생성장 (객체 생성시 0순위로 처리 됨)\n",
        "        self.result = 0     # 객체 자신에 result 변수를 만들고 0 값을 넣음\n",
        "\n",
        "    def add(self, num) :    # 객체용 메서드\n",
        "        self.result += num  # 생성자에 있는 변수에 num을 누적합 저장\n",
        "        return self.result  # 결과를 리턴함"
      ],
      "metadata": {
        "id": "eyGjhNd6mCJF"
      },
      "execution_count": null,
      "outputs": []
    },
    {
      "cell_type": "code",
      "source": [
        "# 객체를 생성함 변수에 연결 ( java : Calculator cal = Calculator())\n",
        "\n",
        "cal1 = Calculator()       # 객체 1\n",
        "cal2 = Calculator()       # 객체 2\n",
        "\n",
        "print(cal1.add(3))        # 1번 계산기"
      ],
      "metadata": {
        "colab": {
          "base_uri": "https://localhost:8080/"
        },
        "id": "8LY72iELnV_0",
        "outputId": "5e39c702-d23b-429b-b7af-695ce9835f53"
      },
      "execution_count": null,
      "outputs": [
        {
          "output_type": "stream",
          "name": "stdout",
          "text": [
            "3\n"
          ]
        }
      ]
    },
    {
      "cell_type": "code",
      "source": [
        "print(cal2.add(9))        # 2번 계산기"
      ],
      "metadata": {
        "colab": {
          "base_uri": "https://localhost:8080/"
        },
        "id": "TbEz-KCXn3AL",
        "outputId": "1c5fa795-21cf-47f8-8023-3448e1136324"
      },
      "execution_count": null,
      "outputs": [
        {
          "output_type": "stream",
          "name": "stdout",
          "text": [
            "9\n"
          ]
        }
      ]
    },
    {
      "cell_type": "code",
      "source": [
        "print(cal1.add(9))         # 1번 계산기"
      ],
      "metadata": {
        "colab": {
          "base_uri": "https://localhost:8080/"
        },
        "id": "ys6mlI_bn_Hz",
        "outputId": "c2cb98f6-4ceb-46cc-d1df-b3e70f10323e"
      },
      "execution_count": null,
      "outputs": [
        {
          "output_type": "stream",
          "name": "stdout",
          "text": [
            "12\n"
          ]
        }
      ]
    },
    {
      "cell_type": "code",
      "source": [
        "print(cal2.add(10))       # 2번 계산기"
      ],
      "metadata": {
        "colab": {
          "base_uri": "https://localhost:8080/"
        },
        "id": "Ue8kE4pDoFhT",
        "outputId": "eaac457a-f9c2-4b07-a42f-9357f5ddcecb"
      },
      "execution_count": null,
      "outputs": [
        {
          "output_type": "stream",
          "name": "stdout",
          "text": [
            "29\n"
          ]
        }
      ]
    },
    {
      "cell_type": "code",
      "source": [
        "# 클래스를 활용한 사칙연산 계산기 만들기\n",
        "\n",
        "class FourCal :\n",
        "   # pass                  # 아무기능없이 동작\n",
        "   # 필드 : 객체마다 가지고 있어야 할 데이터들(dto, vo)\n",
        "   first = 0\n",
        "   second = 0\n",
        "\n",
        "   # 생성자 : 객체를 생성할 때 필요한 무언가? (생성자의 이름은 __init__)\n",
        "   def __init__(self, first, second) :\n",
        "        self.first = first\n",
        "        self.second = second\n",
        "\n",
        "   def setdate(self, first, second) :       # 메서드 선언 (self 필수)\n",
        "        self.first = first                # this.first = first\n",
        "        self.second = second              # this.second = second\n",
        "\n",
        "   def add(self) :\n",
        "      result = self.first + self.second\n",
        "      return result\n",
        "\n",
        "   def mul(self) :\n",
        "      result = self.first * self.second\n",
        "      return result\n",
        "\n",
        "   def sub(self) :\n",
        "      result = self.first - self.second\n",
        "      return result\n",
        "\n",
        "   def divmod(self) :\n",
        "      result = self.first / self.second\n",
        "      return result"
      ],
      "metadata": {
        "id": "I4QtcV0fp1Yz"
      },
      "execution_count": 75,
      "outputs": []
    },
    {
      "cell_type": "code",
      "source": [
        "a = FourCal()           # a 변수에 객체가 연결됨\n",
        "a.setdate(4,2)          # a 변수를 self로 처리함"
      ],
      "metadata": {
        "id": "VHo4jCgCqGJq"
      },
      "execution_count": 41,
      "outputs": []
    },
    {
      "cell_type": "code",
      "source": [
        "b = FourCal()\n",
        "FourCal.setdate(b, 4, 2)"
      ],
      "metadata": {
        "id": "dlwIoIvSqNty"
      },
      "execution_count": 42,
      "outputs": []
    },
    {
      "cell_type": "code",
      "source": [
        "print (a.first)"
      ],
      "metadata": {
        "colab": {
          "base_uri": "https://localhost:8080/"
        },
        "id": "0hzZRZafuzip",
        "outputId": "d585df3e-274e-4c9a-b867-87c916a73ad0"
      },
      "execution_count": 43,
      "outputs": [
        {
          "output_type": "stream",
          "name": "stdout",
          "text": [
            "4\n"
          ]
        }
      ]
    },
    {
      "cell_type": "code",
      "source": [
        "print (b.second)"
      ],
      "metadata": {
        "colab": {
          "base_uri": "https://localhost:8080/"
        },
        "id": "V-J8y9o4u-vY",
        "outputId": "0ce7db54-ce2a-4c83-f0c6-0604ec29709d"
      },
      "execution_count": 44,
      "outputs": [
        {
          "output_type": "stream",
          "name": "stdout",
          "text": [
            "2\n"
          ]
        }
      ]
    },
    {
      "cell_type": "code",
      "source": [
        "c = FourCal()\n",
        "c.setdate(5,5)\n",
        "c.mul()"
      ],
      "metadata": {
        "colab": {
          "base_uri": "https://localhost:8080/"
        },
        "id": "SRcIanFTwQ0h",
        "outputId": "652a251a-a33c-4159-b74b-5663fbde4bb2"
      },
      "execution_count": 46,
      "outputs": [
        {
          "output_type": "execute_result",
          "data": {
            "text/plain": [
              "25"
            ]
          },
          "metadata": {},
          "execution_count": 46
        }
      ]
    },
    {
      "cell_type": "code",
      "source": [
        "d = FourCal(5,5)\n",
        "d.add()"
      ],
      "metadata": {
        "colab": {
          "base_uri": "https://localhost:8080/"
        },
        "id": "iKVhs_m_wov4",
        "outputId": "803f42ee-a5ae-4c08-f3f7-6ab80765452d"
      },
      "execution_count": 54,
      "outputs": [
        {
          "output_type": "execute_result",
          "data": {
            "text/plain": [
              "10"
            ]
          },
          "metadata": {},
          "execution_count": 54
        }
      ]
    },
    {
      "cell_type": "code",
      "source": [
        "# 상속 기능 : 부모가 만든 객체를 보완, 추가하는 기능\n",
        "\n",
        "class MoreFourCal(FourCal) :          # 객체생성시 (부모객체)\n",
        "\n",
        "    def pow(self) :\n",
        "        result = self.first ** self.second\n",
        "        return result\n",
        "\n",
        "    # 오버라이딩 : 부모가 만든 메서드를 변경하여 사용함\n",
        "    def divmod(self) :\n",
        "        if self.second == 0 :\n",
        "            return 0\n",
        "        else :\n",
        "            return self.first / self.second"
      ],
      "metadata": {
        "id": "y9aQz8edyUyo"
      },
      "execution_count": 73,
      "outputs": []
    },
    {
      "cell_type": "code",
      "source": [
        "e = MoreFourCal(4,4)\n",
        "e.pow()"
      ],
      "metadata": {
        "colab": {
          "base_uri": "https://localhost:8080/"
        },
        "id": "2zvIr3S1zglX",
        "outputId": "3a8a3942-edc6-4d3e-b180-3baf3c499673"
      },
      "execution_count": 69,
      "outputs": [
        {
          "output_type": "execute_result",
          "data": {
            "text/plain": [
              "256"
            ]
          },
          "metadata": {},
          "execution_count": 69
        }
      ]
    },
    {
      "cell_type": "code",
      "source": [
        "f = MoreFourCal(4,0)\n",
        "f.divmod()"
      ],
      "metadata": {
        "colab": {
          "base_uri": "https://localhost:8080/"
        },
        "id": "4DaOotKc0jpE",
        "outputId": "a2332319-5708-4327-87fa-aa7fc1758520"
      },
      "execution_count": 74,
      "outputs": [
        {
          "output_type": "execute_result",
          "data": {
            "text/plain": [
              "0"
            ]
          },
          "metadata": {},
          "execution_count": 74
        }
      ]
    }
  ]
}