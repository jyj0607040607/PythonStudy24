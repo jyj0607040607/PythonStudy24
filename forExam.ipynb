{
  "nbformat": 4,
  "nbformat_minor": 0,
  "metadata": {
    "colab": {
      "provenance": [],
      "authorship_tag": "ABX9TyMn6QF4UQsHyE3J86wZYj5j",
      "include_colab_link": true
    },
    "kernelspec": {
      "name": "python3",
      "display_name": "Python 3"
    },
    "language_info": {
      "name": "python"
    }
  },
  "cells": [
    {
      "cell_type": "markdown",
      "metadata": {
        "id": "view-in-github",
        "colab_type": "text"
      },
      "source": [
        "<a href=\"https://colab.research.google.com/github/jyj0607040607/PythonStudy24/blob/master/forExam.ipynb\" target=\"_parent\"><img src=\"https://colab.research.google.com/assets/colab-badge.svg\" alt=\"Open In Colab\"/></a>"
      ]
    },
    {
      "cell_type": "markdown",
      "source": [
        "for문 연습\n",
        "\n",
        "for문은 while과 같은 반복문으로 차이점은 max가 있나 없나이다.\n",
        "\n",
        "for문은 구구단과 같이 9라는 max 값이 있을 때 사용\n",
        "while은 max가 없지만 종료되는 시점을 만들어 제공 (강제 종료 ctrl + c)\n",
        "\n",
        "for 변수 in 리스트 | 튜플 | 문자열 :\n",
        "    실행문1\n",
        "    실행문2\n",
        "\n",
        "자바의 향상 for문 forEach 문과 같다."
      ],
      "metadata": {
        "id": "CntDgFxCBz9C"
      }
    },
    {
      "cell_type": "code",
      "execution_count": null,
      "metadata": {
        "colab": {
          "base_uri": "https://localhost:8080/"
        },
        "id": "dKF3HH1yBqpg",
        "outputId": "7960eff7-0039-4fcb-dff3-5cd87fa825ec"
      },
      "outputs": [
        {
          "output_type": "stream",
          "name": "stdout",
          "text": [
            "one\n",
            "two\n",
            "three\n"
          ]
        }
      ],
      "source": [
        "# 전형적인 for문\n",
        "\n",
        "test_list = ['one', 'two', 'three']\n",
        "for i in test_list:\n",
        "    print(i)"
      ]
    },
    {
      "cell_type": "code",
      "source": [
        "# 다양한 for문 사용\n",
        "a = [(1,2), (3,4), (5,6)]\n",
        "for (first, last) in a:\n",
        "    print(first + last)"
      ],
      "metadata": {
        "colab": {
          "base_uri": "https://localhost:8080/"
        },
        "id": "0kTpbU9cErfS",
        "outputId": "56e6dcc8-b91b-4f3d-e6f3-0323448adf9f"
      },
      "execution_count": null,
      "outputs": [
        {
          "output_type": "stream",
          "name": "stdout",
          "text": [
            "3\n",
            "7\n",
            "11\n"
          ]
        }
      ]
    },
    {
      "cell_type": "code",
      "source": [
        "# 총 5명의 학생이 시험을 보았는데 시험 점수가 60점 이상이면\n",
        "# 합격이고 그렇지 않으면 불합격이다.\n",
        "\n",
        "marks = [90,25,67,45,80]              # 학생별 시험 점수, 5명\n",
        "number = 0                            # 학생출력시 번호 지정\n",
        "for mark in marks:                    # 리스트에 있는 객체를 앞에서부터 1개씩 가져와 mark 변수에 넣음\n",
        "    number += 1\n",
        "    if mark >= 60:\n",
        "        print(\"%d번 학생은 합격입니다.\" % number)\n",
        "    else:\n",
        "        print(\"%d번 학생은 불합격입니다.\" % number)"
      ],
      "metadata": {
        "colab": {
          "base_uri": "https://localhost:8080/"
        },
        "id": "2qoPS3EHFK8B",
        "outputId": "f482caf9-d8a9-4f58-d873-2027054d45cf"
      },
      "execution_count": null,
      "outputs": [
        {
          "output_type": "stream",
          "name": "stdout",
          "text": [
            "1번 학생은 합격입니다.\n",
            "2번 학생은 불합격입니다.\n",
            "3번 학생은 합격입니다.\n",
            "4번 학생은 불합격입니다.\n",
            "5번 학생은 합격입니다.\n"
          ]
        }
      ]
    },
    {
      "cell_type": "code",
      "source": [
        "# for + continue\n",
        "\n",
        "marks = [90,25,67,45,80]          # 학생들의 점수 리스트\n",
        "number = 0                        # 학생번호\n",
        "for mark in marks:                # 리스트 반복문\n",
        "    number += 1                   # 학생번호 증가\n",
        "    if mark < 60:                 # 점수가 < 60\n",
        "        continue                  # 점수가 60보다 작을 때 위로 올라감\n",
        "    print(\"%d번 학생 축하합니다. 합격입니다.\" % number)   # 60이상일 때 처리문"
      ],
      "metadata": {
        "colab": {
          "base_uri": "https://localhost:8080/"
        },
        "id": "1MzVx9emJXZL",
        "outputId": "e5e9a843-e096-42fb-bd5f-aded1c7d32f0"
      },
      "execution_count": null,
      "outputs": [
        {
          "output_type": "stream",
          "name": "stdout",
          "text": [
            "1번 학생 축하합니다. 합격입니다.\n",
            "3번 학생 축하합니다. 합격입니다.\n",
            "5번 학생 축하합니다. 합격입니다.\n"
          ]
        }
      ]
    },
    {
      "cell_type": "code",
      "source": [
        "# for문과 같이 자주 쓰는 range()\n",
        "\n",
        "a = range(10)  # 0부터 10 미만 숫자를 포함하는 객체를 만들어줌\n",
        "a"
      ],
      "metadata": {
        "colab": {
          "base_uri": "https://localhost:8080/"
        },
        "id": "RIa6yX8oKRgJ",
        "outputId": "28b12129-7152-40b4-eaf7-c6eaeaabf264"
      },
      "execution_count": null,
      "outputs": [
        {
          "output_type": "execute_result",
          "data": {
            "text/plain": [
              "range(0, 10)"
            ]
          },
          "metadata": {},
          "execution_count": 9
        }
      ]
    },
    {
      "cell_type": "code",
      "source": [
        "a = range(1,11)   # (시작값, 끝값: 끝숫자는 포함되지 않는다.)\n",
        "a                 # 1~10까지 값을 가지고 있음"
      ],
      "metadata": {
        "colab": {
          "base_uri": "https://localhost:8080/"
        },
        "id": "UbTAZGC9KygZ",
        "outputId": "1bb870fd-ee8a-4598-b7dd-17bc5fe953a8"
      },
      "execution_count": null,
      "outputs": [
        {
          "output_type": "execute_result",
          "data": {
            "text/plain": [
              "range(1, 11)"
            ]
          },
          "metadata": {},
          "execution_count": 10
        }
      ]
    },
    {
      "cell_type": "code",
      "source": [
        "for i in range(1,11):\n",
        "    print(i)"
      ],
      "metadata": {
        "colab": {
          "base_uri": "https://localhost:8080/"
        },
        "id": "emfuYDbDLKuY",
        "outputId": "d89b0803-5aa7-4312-8399-156cdb3d89e6"
      },
      "execution_count": null,
      "outputs": [
        {
          "output_type": "stream",
          "name": "stdout",
          "text": [
            "1\n",
            "2\n",
            "3\n",
            "4\n",
            "5\n",
            "6\n",
            "7\n",
            "8\n",
            "9\n",
            "10\n"
          ]
        }
      ]
    },
    {
      "cell_type": "code",
      "source": [
        "marks = [90, 25, 67, 45, 80]\n",
        "for number in range(len(marks)):\n",
        "    if marks[number] < 60:\n",
        "        continue\n",
        "    print(\"%d번 학생 축하합니다. 합격입니다.\" % (number+1))"
      ],
      "metadata": {
        "colab": {
          "base_uri": "https://localhost:8080/"
        },
        "id": "cNwInflmLk8B",
        "outputId": "5b272a37-0ec5-45c2-c0c3-48bfe6bd8869"
      },
      "execution_count": null,
      "outputs": [
        {
          "output_type": "stream",
          "name": "stdout",
          "text": [
            "1번 학생 축하합니다. 합격입니다.\n",
            "3번 학생 축하합니다. 합격입니다.\n",
            "5번 학생 축하합니다. 합격입니다.\n"
          ]
        }
      ]
    },
    {
      "cell_type": "code",
      "source": [
        "# 구구단을 만들어 보자 2 * 1 ~ 9 * 9 = 81\n",
        "# 댜중 for문\n",
        "\n",
        "for i in range(2,10):         # 2단 ~ 9단\n",
        "    for j in range(1,10):     # 단마다 곱해지는 값 1 ~ 9\n",
        "      print(i*j, end=\", \")    # 각 단마다 곱하고 출력\n",
        "                              # print end 파라미터는 기본 엔터를 하지 않고 \" \"로\n",
        "    print('')                 # 단이 끝나면 엔터 효과"
      ],
      "metadata": {
        "colab": {
          "base_uri": "https://localhost:8080/"
        },
        "id": "zUER84RZMADR",
        "outputId": "c8dd9203-8d61-4528-9c94-f441c9694f9a"
      },
      "execution_count": null,
      "outputs": [
        {
          "output_type": "stream",
          "name": "stdout",
          "text": [
            "2, 4, 6, 8, 10, 12, 14, 16, 18, \n",
            "3, 6, 9, 12, 15, 18, 21, 24, 27, \n",
            "4, 8, 12, 16, 20, 24, 28, 32, 36, \n",
            "5, 10, 15, 20, 25, 30, 35, 40, 45, \n",
            "6, 12, 18, 24, 30, 36, 42, 48, 54, \n",
            "7, 14, 21, 28, 35, 42, 49, 56, 63, \n",
            "8, 16, 24, 32, 40, 48, 56, 64, 72, \n",
            "9, 18, 27, 36, 45, 54, 63, 72, 81, \n"
          ]
        }
      ]
    },
    {
      "cell_type": "code",
      "source": [
        "# 리스트 컴프리헨션 -> 결과를 리스트로 저장\n",
        "\n",
        "# 리스트 컴프리헨션을 사용하지 않는 방법\n",
        "a = [1, 2, 3, 4]              # 입력 리스트 값\n",
        "result = []                   # 출력 리스트 값\n",
        "for num in a:                 # 입력 리스트 값일 1개씩 가져와 num에 넣음\n",
        "    result.append(num*3)      # 출력 리스트 값에 3을 곱해 추가(.append)\n",
        "print(result)                 # 반복 후에 출력"
      ],
      "metadata": {
        "colab": {
          "base_uri": "https://localhost:8080/"
        },
        "id": "UXh4owSMNXEQ",
        "outputId": "86061780-63a0-43bf-d6c4-3761b00992d0"
      },
      "execution_count": null,
      "outputs": [
        {
          "output_type": "stream",
          "name": "stdout",
          "text": [
            "[3, 6, 9, 12]\n"
          ]
        }
      ]
    },
    {
      "cell_type": "code",
      "source": [
        "a = [1,2,3,4]\n",
        "result = [num * 3 for num in a]       # 변수 = [ 실행문 for 변수 in] 리스트화\n",
        "print(result)"
      ],
      "metadata": {
        "colab": {
          "base_uri": "https://localhost:8080/"
        },
        "id": "Ph0RuW85OX3Y",
        "outputId": "77c09c92-95f0-4d6c-df2a-502da4c1c03c"
      },
      "execution_count": null,
      "outputs": [
        {
          "output_type": "stream",
          "name": "stdout",
          "text": [
            "[3, 6, 9, 12]\n"
          ]
        }
      ]
    },
    {
      "cell_type": "code",
      "source": [
        "# 짝수만 3을 곱해서 리스트에 담고 싶다.\n",
        "a = [1,2,3,4]\n",
        "result = [num * 3 for num in a if num % 2 == 0]\n",
        "# 결과 배열 = 실행문 for문     if문 조건\n",
        "print(result)"
      ],
      "metadata": {
        "colab": {
          "base_uri": "https://localhost:8080/"
        },
        "id": "-WQSCMwPPUI4",
        "outputId": "ddd974ca-6876-473a-f045-36abdfba3119"
      },
      "execution_count": null,
      "outputs": [
        {
          "output_type": "stream",
          "name": "stdout",
          "text": [
            "[6, 12]\n"
          ]
        }
      ]
    },
    {
      "cell_type": "code",
      "source": [
        " # 미션 전에 만든 커피자판기를 리스트화 해서 for문으로 구현\n",
        "\n",
        " # 커피 종류가 5개 (커피명, 수량, 단가)\n",
        " # 사용자 커피를 반복 구매\n",
        " # 관리자가 판매종료 후 통계\n",
        "\n",
        "latte = 5\n",
        "while latte > 0:\n",
        "    money = int(input(\"돈을 넣어 주세요:\"))\n",
        "    if money == 400:\n",
        "        print(\"라떼를 줍니다.\")\n",
        "        latte = latte -1\n",
        "    elif money > 400:\n",
        "        print(\"거스름돈 %d를 주고 라떼를 줍니다.\" % (money -400))\n",
        "        latte = latte -1\n",
        "    else:\n",
        "        print(\"돈을 다시 돌려주고 커피를 주지 않습니다.\")\n",
        "        print(\"남은 커피의 양은 %d개 입니다.\" % latte)\n",
        "    if latte == 0:\n",
        "        print(\"라떼가 다 떨어졌습니다. 판매를 중지합니다.\")\n",
        "        break\n",
        "\n",
        "juice = 4\n",
        "while juice > 0:\n",
        "    money = int(input(\"돈을 넣어 주세요:\"))\n",
        "    if money == 300:\n",
        "        print(\"쥬스를 줍니다.\")\n",
        "        juice = juice -1\n",
        "    elif money > 300:\n",
        "        print(\"거스름돈 %d를 주고 쥬스를 줍니다.\" % (money -300))\n",
        "        juice = juice -1\n",
        "    else:\n",
        "        print(\"돈을 다시 돌려주고 쥬스를 주지 않습니다.\")\n",
        "\n",
        "americano = 3\n",
        "while americano > 0:\n",
        "    money = int(input(\"돈을 넣어 주세요:\"))\n",
        "    if money == 200:\n",
        "        print(\"아메리카노를 줍니다.\")\n",
        "        americano = americano -1\n",
        "    if money > 200:\n",
        "        print(\"거스름돈 %d를 주고 아메리카노를 줍니다.\" % (money -200))\n",
        "        americano = americano -1\n",
        "    elif money < 200:\n",
        "        print(\"돈을 다시 돌려주고 아메리카노를 주지 않습니다.\")\n",
        "\n",
        "dessert = 2\n",
        "while dessert > 0:\n",
        "    money = int(input(\"돈을 넣어 주세요:\"))\n",
        "    if money == 100:\n",
        "        print(\"디저트를 줍니다.\")\n",
        "        print(\"남은 디저트의 양은 %d개 입니다.\" %dessert)\n",
        "    if dessert == 0:\n",
        "        print(\"디저트가 다 떨어졌습니다. 판매를 중지합니다.\")\n",
        "        break\n",
        "\n",
        "        dessert = dessert -1\n",
        "    if money > 100:\n",
        "        print(\"거스름돈 %d를 주고 디저트를 줍니다.\" % (money -100))\n",
        "        dessert = dessert -1\n",
        "    elif money < 100:\n",
        "        print(\"돈을 다시 돌려주고 디저트를 주지 않습니다.\")\n",
        "        print(\"남은 디저트의 양은 %d개 입니다.\" %dessert)\n",
        "    if dessert == 0:\n",
        "        print(\"디저트가 다 떨어졌습니다. 판매를 중지합니다.\")\n",
        "        break\n",
        "\n",
        "cappuccino = 1\n",
        "while cappuccino > 0:\n",
        "    money = int(input(\"돈을 넣어 주세요:\"))\n",
        "    if money == 300:\n",
        "        print(\"카푸치노를 줍니다.\")\n",
        "        cappuccino = cappuccino -1\n",
        "    elif money > 300:\n",
        "        print(\"거스름돈 %d를 주고 카푸치노를 줍니다.\" % (money -300))\n",
        "        cappuccino = cappuccino -1\n",
        "    elif money < 300:\n",
        "        print(\"돈을 다시 돌려주고 카푸치노를 주지 않습니다.\")\n",
        "    else:\n",
        "      if cappuccino == 0:\n",
        "        print(\"카푸치노가 다 떨어졌습니다. 판매를 중지합니다.\")\n",
        "        print(\"남은 카푸치노의 양은 %d개 입니다.\" % cappuccino)\n",
        "        break"
      ],
      "metadata": {
        "colab": {
          "base_uri": "https://localhost:8080/"
        },
        "id": "52r5jIV_P3kJ",
        "outputId": "c1cfc5e0-b350-45fb-bad3-fa899c21a4ff"
      },
      "execution_count": null,
      "outputs": [
        {
          "metadata": {
            "tags": null
          },
          "name": "stdout",
          "output_type": "stream",
          "text": [
            "거스름돈 500를 주고 라떼를 줍니다.\n",
            "거스름돈 400를 주고 라떼를 줍니다.\n",
            "거스름돈 300를 주고 라떼를 줍니다.\n",
            "거스름돈 200를 주고 라떼를 줍니다.\n",
            "라떼를 줍니다.\n",
            "라떼가 다 떨어졌습니다. 판매를 중지합니다.\n",
            "쥬스를 줍니다.\n",
            "돈을 다시 돌려주고 쥬스를 주지 않습니다.\n",
            "돈을 다시 돌려주고 쥬스를 주지 않습니다.\n",
            "거스름돈 200를 주고 쥬스를 줍니다.\n",
            "거스름돈 400를 주고 쥬스를 줍니다.\n",
            "거스름돈 600를 주고 쥬스를 줍니다.\n",
            "돈을 다시 돌려주고 아메리카노를 주지 않습니다.\n",
            "아메리카노를 줍니다.\n"
          ]
        }
      ]
    }
  ]
}