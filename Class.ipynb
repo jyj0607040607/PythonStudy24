{
  "nbformat": 4,
  "nbformat_minor": 0,
  "metadata": {
    "colab": {
      "provenance": [],
      "authorship_tag": "ABX9TyPuUsi4UtRMyMtoxxdq2mYc",
      "include_colab_link": true
    },
    "kernelspec": {
      "name": "python3",
      "display_name": "Python 3"
    },
    "language_info": {
      "name": "python"
    }
  },
  "cells": [
    {
      "cell_type": "markdown",
      "metadata": {
        "id": "view-in-github",
        "colab_type": "text"
      },
      "source": [
        "<a href=\"https://colab.research.google.com/github/jyj0607040607/PythonStudy24/blob/master/Untitled6.ipynb\" target=\"_parent\"><img src=\"https://colab.research.google.com/assets/colab-badge.svg\" alt=\"Open In Colab\"/></a>"
      ]
    },
    {
      "cell_type": "markdown",
      "source": [
        "'입력'과 '출력'\n",
        "\n",
        "\n",
        "*   함수 이름? gugu\n",
        "*   입력 받는 값? 2\n",
        "*   출력하는 값? 2단(2,4,6,8 ... 18)\n",
        "*   결과는 어떤 형태로 저장하지? 연속된 자료형이므로 리스트!\n",
        "\n"
      ],
      "metadata": {
        "id": "qNO-egw3tmPC"
      }
    },
    {
      "cell_type": "code",
      "execution_count": 4,
      "metadata": {
        "colab": {
          "base_uri": "https://localhost:8080/"
        },
        "id": "5GC3MPUGtLPE",
        "outputId": "447cc3af-f9e2-42dd-c2c3-62ed92b605c3"
      },
      "outputs": [
        {
          "output_type": "stream",
          "name": "stdout",
          "text": [
            "2\n"
          ]
        }
      ],
      "source": [
        "result = gugu(2)"
      ]
    },
    {
      "cell_type": "code",
      "source": [
        "def gugu(n):\n",
        "    print(2)"
      ],
      "metadata": {
        "id": "-5cDCf6wuerK"
      },
      "execution_count": 3,
      "outputs": []
    },
    {
      "cell_type": "code",
      "source": [
        "def gugu(n):\n",
        "    result = []"
      ],
      "metadata": {
        "id": "RAbD6rG-uk_K"
      },
      "execution_count": 5,
      "outputs": []
    },
    {
      "cell_type": "code",
      "source": [
        "def gugu(n):\n",
        "    result = []\n",
        "    result.append(n*1)\n",
        "    result.append(n*2)\n",
        "    result.append(n*3)\n",
        "    result.append(n*4)\n",
        "    result.append(n*5)\n",
        "    result.append(n*6)\n",
        "    result.append(n*7)\n",
        "    result.append(n*8)\n",
        "    result.append(n*9)\n",
        "    return result\n",
        "\n",
        "print(gugu(2))"
      ],
      "metadata": {
        "colab": {
          "base_uri": "https://localhost:8080/"
        },
        "id": "zm8Ejx4MuzvK",
        "outputId": "66e6b4c7-211e-4ad0-e115-4ec84f34f661"
      },
      "execution_count": 6,
      "outputs": [
        {
          "output_type": "stream",
          "name": "stdout",
          "text": [
            "[2, 4, 6, 8, 10, 12, 14, 16, 18]\n"
          ]
        }
      ]
    },
    {
      "cell_type": "code",
      "source": [
        "i = 1\n",
        "while i < 10:\n",
        "    print(i)\n",
        "    i = i + 1"
      ],
      "metadata": {
        "colab": {
          "base_uri": "https://localhost:8080/"
        },
        "id": "bfSBMb-dwF7z",
        "outputId": "b07b0a31-0bec-45ed-c819-d7c7f4c6fd49"
      },
      "execution_count": 7,
      "outputs": [
        {
          "output_type": "stream",
          "name": "stdout",
          "text": [
            "1\n",
            "2\n",
            "3\n",
            "4\n",
            "5\n",
            "6\n",
            "7\n",
            "8\n",
            "9\n"
          ]
        }
      ]
    },
    {
      "cell_type": "code",
      "source": [
        "# gugu.py\n",
        "def gugu(n):\n",
        "    result = []\n",
        "    i = 1\n",
        "    while i < 10:\n",
        "      result.append(n * i)\n",
        "      i = i + 1\n",
        "    return result"
      ],
      "metadata": {
        "id": "-FMxYMSFzrKZ"
      },
      "execution_count": 8,
      "outputs": []
    },
    {
      "cell_type": "code",
      "source": [
        "print(gugu(2))"
      ],
      "metadata": {
        "colab": {
          "base_uri": "https://localhost:8080/"
        },
        "id": "8_wSizze0x_Z",
        "outputId": "11ff2802-7f13-4a10-c43c-bc645c6ad767"
      },
      "execution_count": 9,
      "outputs": [
        {
          "output_type": "stream",
          "name": "stdout",
          "text": [
            "[2, 4, 6, 8, 10, 12, 14, 16, 18]\n"
          ]
        }
      ]
    }
  ]
}
