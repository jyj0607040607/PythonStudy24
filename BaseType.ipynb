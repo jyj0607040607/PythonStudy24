{
  "nbformat": 4,
  "nbformat_minor": 0,
  "metadata": {
    "colab": {
      "provenance": [],
      "authorship_tag": "ABX9TyNs38q3toFU+lj5gQofIMKN",
      "include_colab_link": true
    },
    "kernelspec": {
      "name": "python3",
      "display_name": "Python 3"
    },
    "language_info": {
      "name": "python"
    }
  },
  "cells": [
    {
      "cell_type": "markdown",
      "metadata": {
        "id": "view-in-github",
        "colab_type": "text"
      },
      "source": [
        "<a href=\"https://colab.research.google.com/github/jyj0607040607/PythonStudy24/blob/master/BaseType.ipynb\" target=\"_parent\"><img src=\"https://colab.research.google.com/assets/colab-badge.svg\" alt=\"Open In Colab\"/></a>"
      ]
    },
    {
      "cell_type": "markdown",
      "source": [
        "파이썬 프로그래밍 기초, 자료형\n",
        "\n",
        "1. 숫자형\n",
        "2. 문자열\n",
        "3. 리스트\n",
        "4. 튜플\n",
        "5. 딕셔너리\n",
        "6. 집합\n",
        "7. 불"
      ],
      "metadata": {
        "id": "S2ulaWJ1VCeA"
      }
    },
    {
      "cell_type": "code",
      "execution_count": 2,
      "metadata": {
        "colab": {
          "base_uri": "https://localhost:8080/"
        },
        "id": "w-QW-6O3TNuL",
        "outputId": "6d5918c6-ca4b-4210-b03c-b7f184007a74"
      },
      "outputs": [
        {
          "output_type": "stream",
          "name": "stdout",
          "text": [
            "127\n",
            "2303\n"
          ]
        }
      ],
      "source": [
        "# 숫자형은 정수형, 실수형, 진수형이 있다.\n",
        "\n",
        "# 정수형 (integer) : 양의 정수와 음의정수, 숫자 0를 변수에 대입\n",
        "\n",
        "a = 123  # 양의 정수\n",
        "b = -123 # 음의 정수\n",
        "c = 0 # 숫자 0\n",
        "\n",
        "# 실수형 (floating-point) : 소수점이 포함된 숫자\n",
        "\n",
        "d = 1.2\n",
        "e = -3.45\n",
        "\n",
        "# 지수 표현방법 : 많은 숫치를 짧게 표현\n",
        "\n",
        "f = 4.24E10 # 4.24 * 10^10\n",
        "g = 4.24e-10 # 4.24 * 10^-10\n",
        "\n",
        "# 진수표현방법\n",
        "# 8진수 (옥타 : octal) -> 숫자0에 알파벳o (대소문자가능)\n",
        "\n",
        "h = 0o177 # 177 8진수\n",
        "print(h) # 127 10진수\n",
        "\n",
        "# 16진수 (핵사 : haxadecimal) -> 숫자 0에 알파벳x\n",
        "\n",
        "i = 0x8ff # 8ff 16진수\n",
        "print(i) #2303 10진수\n"
      ]
    },
    {
      "cell_type": "markdown",
      "source": [
        "숫자형을 활용하기 위한 연산자\n",
        "\n",
        "1. 사칙연산 : +,  -,  *,  /\n",
        "2. 우선순위 : 괄호 -> *,/ -> *앞쪽*"
      ],
      "metadata": {
        "id": "MrFF4BYidIzt"
      }
    },
    {
      "cell_type": "code",
      "source": [
        "a = 3\n",
        "b = 4\n",
        "a + b"
      ],
      "metadata": {
        "colab": {
          "base_uri": "https://localhost:8080/"
        },
        "id": "E0mpJSm_d410",
        "outputId": "bcb2fd89-effa-4f55-bc50-4e6d40b043c7"
      },
      "execution_count": 3,
      "outputs": [
        {
          "output_type": "execute_result",
          "data": {
            "text/plain": [
              "7"
            ]
          },
          "metadata": {},
          "execution_count": 3
        }
      ]
    },
    {
      "cell_type": "code",
      "source": [
        "a - b"
      ],
      "metadata": {
        "colab": {
          "base_uri": "https://localhost:8080/"
        },
        "id": "6PcKQND4eGcs",
        "outputId": "bbc6fae1-e3ec-46b7-b83d-69c146faa21b"
      },
      "execution_count": 4,
      "outputs": [
        {
          "output_type": "execute_result",
          "data": {
            "text/plain": [
              "-1"
            ]
          },
          "metadata": {},
          "execution_count": 4
        }
      ]
    },
    {
      "cell_type": "code",
      "source": [
        "a * b"
      ],
      "metadata": {
        "colab": {
          "base_uri": "https://localhost:8080/"
        },
        "id": "17dC9eH8eSPc",
        "outputId": "a5775fd2-b561-44e1-a88b-7b1bc16af8ad"
      },
      "execution_count": 5,
      "outputs": [
        {
          "output_type": "execute_result",
          "data": {
            "text/plain": [
              "12"
            ]
          },
          "metadata": {},
          "execution_count": 5
        }
      ]
    },
    {
      "cell_type": "code",
      "source": [
        "a / b"
      ],
      "metadata": {
        "colab": {
          "base_uri": "https://localhost:8080/"
        },
        "id": "1c0L9DoBeVV0",
        "outputId": "4918b8d7-e389-419a-a7f0-3be4db804412"
      },
      "execution_count": 6,
      "outputs": [
        {
          "output_type": "execute_result",
          "data": {
            "text/plain": [
              "0.75"
            ]
          },
          "metadata": {},
          "execution_count": 6
        }
      ]
    },
    {
      "cell_type": "code",
      "source": [
        "# 제곱 처리하는 방법\n",
        "a ** b # 3^4"
      ],
      "metadata": {
        "colab": {
          "base_uri": "https://localhost:8080/"
        },
        "id": "eH2_krbweaUl",
        "outputId": "1305216f-cf0e-4e2b-9c37-8554567201e9"
      },
      "execution_count": 7,
      "outputs": [
        {
          "output_type": "execute_result",
          "data": {
            "text/plain": [
              "81"
            ]
          },
          "metadata": {},
          "execution_count": 7
        }
      ]
    },
    {
      "cell_type": "code",
      "source": [
        "# 나머지 처리하는 방법 (%)\n",
        "7 % 3"
      ],
      "metadata": {
        "colab": {
          "base_uri": "https://localhost:8080/"
        },
        "id": "sT_Z4g64enWM",
        "outputId": "efb8f278-fd34-43cc-d2c3-540ce0d372cd"
      },
      "execution_count": 8,
      "outputs": [
        {
          "output_type": "execute_result",
          "data": {
            "text/plain": [
              "1"
            ]
          },
          "metadata": {},
          "execution_count": 8
        }
      ]
    },
    {
      "cell_type": "code",
      "source": [
        "# 나눗셈 후 몫을 리턴하는 방법 (//)\n",
        "7 // 4"
      ],
      "metadata": {
        "colab": {
          "base_uri": "https://localhost:8080/"
        },
        "id": "czlUEwTFfzv8",
        "outputId": "291db87e-bdf8-4b6e-85ed-2154e5e5da47"
      },
      "execution_count": 10,
      "outputs": [
        {
          "output_type": "execute_result",
          "data": {
            "text/plain": [
              "1"
            ]
          },
          "metadata": {},
          "execution_count": 10
        }
      ]
    },
    {
      "cell_type": "code",
      "source": [
        "# 복합 연산자 +=, -=, *=, /=, //=, %=, **=\n",
        "a = 1\n",
        "a = a + 1\n",
        "print(a)\n",
        "\n",
        "a += 1    # a = a + 1\n",
        "print(a)"
      ],
      "metadata": {
        "colab": {
          "base_uri": "https://localhost:8080/"
        },
        "id": "RCASdoTtgSVE",
        "outputId": "b24885cb-6d6d-4636-de70-a1affe61c8b3"
      },
      "execution_count": 1,
      "outputs": [
        {
          "output_type": "stream",
          "name": "stdout",
          "text": [
            "2\n",
            "3\n"
          ]
        }
      ]
    },
    {
      "cell_type": "code",
      "source": [
        "# 문자열  자료형 (string) : 연속된 문자들의 나열 \"\"큰따옴표\n",
        "\n",
        "# 큰따옴표\n",
        "\"Hello  World\"\n",
        "\n",
        "#작은 따옴표\n",
        "'Hello Workd'\n",
        "\n",
        "# 큰따옴표 3개를 연속으로 써서 양쪽 들러싸기\n",
        "\"\"\"Hello World\"\"\"\n",
        "\n",
        "# 작은따옴표 3개를 연속으로 써서 양쪽 둘러싸기\n",
        "'''Hello World'''\n",
        "\n",
        "food = \"Python's favorite food is perl\"\n",
        "food\n"
      ],
      "metadata": {
        "colab": {
          "base_uri": "https://localhost:8080/",
          "height": 35
        },
        "id": "QUpT5Zc4hGw8",
        "outputId": "48d9da56-56c5-40bb-f071-78747ada0435"
      },
      "execution_count": 3,
      "outputs": [
        {
          "output_type": "execute_result",
          "data": {
            "text/plain": [
              "\"Python's favorite food is perl\""
            ],
            "application/vnd.google.colaboratory.intrinsic+json": {
              "type": "string"
            }
          },
          "metadata": {},
          "execution_count": 3
        }
      ]
    },
    {
      "cell_type": "code",
      "source": [
        "# 만약에 문자열 출력에 큰따옴표를 보여 주고 싶을 때\n",
        "say = '\"python is very easy.\" he says.'\n",
        "say"
      ],
      "metadata": {
        "colab": {
          "base_uri": "https://localhost:8080/",
          "height": 35
        },
        "id": "3rj-Kk_KjCAM",
        "outputId": "25aeb920-46ef-4713-ad29-9450d53bfe6d"
      },
      "execution_count": 5,
      "outputs": [
        {
          "output_type": "execute_result",
          "data": {
            "text/plain": [
              "'\"python is very easy.\" he says.'"
            ],
            "application/vnd.google.colaboratory.intrinsic+json": {
              "type": "string"
            }
          },
          "metadata": {},
          "execution_count": 5
        }
      ]
    },
    {
      "cell_type": "code",
      "source": [
        "# 이스케이프문자 활용하기 \\n \\t \\r \\\\등....  (\\역슬레시로 활용)\n",
        "\n",
        "food = 'Python\\'s favorite food is perl'\n",
        "food"
      ],
      "metadata": {
        "colab": {
          "base_uri": "https://localhost:8080/",
          "height": 35
        },
        "id": "dp81kpEqjh07",
        "outputId": "8b431948-3172-44b0-9c3d-978f23c6c566"
      },
      "execution_count": 13,
      "outputs": [
        {
          "output_type": "execute_result",
          "data": {
            "text/plain": [
              "\"Python's favorite food is perl\""
            ],
            "application/vnd.google.colaboratory.intrinsic+json": {
              "type": "string"
            }
          },
          "metadata": {},
          "execution_count": 13
        }
      ]
    },
    {
      "cell_type": "code",
      "source": [
        "say = \"\\\"python is very easy.\\\" he says.\"\n",
        "say"
      ],
      "metadata": {
        "colab": {
          "base_uri": "https://localhost:8080/",
          "height": 35
        },
        "id": "z_CgLrNKoKZz",
        "outputId": "fe747498-0b91-4a2b-d96e-1e7a33ba566f"
      },
      "execution_count": 14,
      "outputs": [
        {
          "output_type": "execute_result",
          "data": {
            "text/plain": [
              "'\"python is very easy.\" he says.'"
            ],
            "application/vnd.google.colaboratory.intrinsic+json": {
              "type": "string"
            }
          },
          "metadata": {},
          "execution_count": 14
        }
      ]
    },
    {
      "cell_type": "code",
      "source": [
        "# 여러줄로 출력 Wn 엔터 효과\n",
        "multiline = \"Life is too shortWnYou need python\"\n",
        "\n",
        "print(multiline)"
      ],
      "metadata": {
        "colab": {
          "base_uri": "https://localhost:8080/"
        },
        "id": "uNynGuugnGEK",
        "outputId": "444c3bd4-75eb-4be5-a681-3e4ea2c0dc8b"
      },
      "execution_count": 20,
      "outputs": [
        {
          "output_type": "stream",
          "name": "stdout",
          "text": [
            "Life is too shortWnYou need python\n"
          ]
        }
      ]
    },
    {
      "cell_type": "code",
      "source": [
        "# 여러줄로 출력가 가능한 \"\"\"\"\n",
        "multiline = '''\n",
        "Life is too short\n",
        "You need python\n",
        "'''\n",
        "\n",
        "print(multiline)"
      ],
      "metadata": {
        "colab": {
          "base_uri": "https://localhost:8080/"
        },
        "id": "tItG0oxlomHZ",
        "outputId": "d3fca0a6-d33a-4d88-8472-e945b329b42f"
      },
      "execution_count": 21,
      "outputs": [
        {
          "output_type": "stream",
          "name": "stdout",
          "text": [
            "\n",
            "Life is too short\n",
            "You need python\n",
            "\n"
          ]
        }
      ]
    },
    {
      "cell_type": "code",
      "source": [
        "multiline = \"\"\"\n",
        "Life is too short\n",
        "You need python\n",
        "\"\"\"\n",
        "\n",
        "print(multiline)"
      ],
      "metadata": {
        "colab": {
          "base_uri": "https://localhost:8080/"
        },
        "id": "qM-sN3dso9zB",
        "outputId": "2b1f7a69-902d-4361-92ea-3e7fbd89c5bb"
      },
      "execution_count": 22,
      "outputs": [
        {
          "output_type": "stream",
          "name": "stdout",
          "text": [
            "\n",
            "Life is too short\n",
            "You need python\n",
            "\n"
          ]
        }
      ]
    },
    {
      "cell_type": "markdown",
      "source": [
        "# 이스케이프 코드 종류\n",
        "\n",
        "\\n : 문자열 안에서 줄을 바꿈\n",
        "\n",
        "\\t : 탭 간격으로 점프\n",
        "\n",
        "\\\\ : \\를 출력한다.\n",
        "\n",
        "\\' : '를 출력한다.\n",
        "\n",
        "\\\" : \"를 출력한다.\n",
        "\n",
        "\\r : 캐리지 리턴 (과거의 타자기의 효과 : 커서를 현재 줄 맨 앞으로)\n",
        "\n",
        "\\f : 폼피드 (줄 바꿈 문자, 커서를 현재 줄의 다음 줄로 이동)\n",
        "\n",
        "\\a : 벨소리 (출력할 때 뻑소리가 남)\n",
        "\n",
        "\\b : 백 스페이스\n",
        "\n",
        "\\000 : 널문자"
      ],
      "metadata": {
        "id": "effinW3zpS1Z"
      }
    },
    {
      "cell_type": "code",
      "source": [
        "# 문자열 연산자 (문자열을 더하거나 곱할 수 있다.)\n",
        "head = \"Python\"\n",
        "tail = \"is fun!!!\"\n",
        "head + tail"
      ],
      "metadata": {
        "colab": {
          "base_uri": "https://localhost:8080/",
          "height": 35
        },
        "id": "45lS12CArDDp",
        "outputId": "069d3d60-5303-4799-d207-535c565192db"
      },
      "execution_count": 23,
      "outputs": [
        {
          "output_type": "execute_result",
          "data": {
            "text/plain": [
              "'Pythonis fun!!!'"
            ],
            "application/vnd.google.colaboratory.intrinsic+json": {
              "type": "string"
            }
          },
          "metadata": {},
          "execution_count": 23
        }
      ]
    },
    {
      "cell_type": "code",
      "source": [
        "body = \" python \"\n",
        "body * 5"
      ],
      "metadata": {
        "colab": {
          "base_uri": "https://localhost:8080/",
          "height": 35
        },
        "id": "1c-5LYctrb6x",
        "outputId": "6e1c8486-1349-4078-abeb-899357e3b7f7"
      },
      "execution_count": 25,
      "outputs": [
        {
          "output_type": "execute_result",
          "data": {
            "text/plain": [
              "' python  python  python  python  python '"
            ],
            "application/vnd.google.colaboratory.intrinsic+json": {
              "type": "string"
            }
          },
          "metadata": {},
          "execution_count": 25
        }
      ]
    },
    {
      "cell_type": "code",
      "source": [
        "print (\"=\" * 30)\n",
        "print (\"Wecome to Python World\")\n",
        "print (\"=\"* 30)"
      ],
      "metadata": {
        "colab": {
          "base_uri": "https://localhost:8080/"
        },
        "id": "Se6rYaearuNh",
        "outputId": "f74004b7-208d-4712-f3c7-97a987cd0b9f"
      },
      "execution_count": 26,
      "outputs": [
        {
          "output_type": "stream",
          "name": "stdout",
          "text": [
            "==============================\n",
            "Wecome to Python World\n",
            "==============================\n"
          ]
        }
      ]
    },
    {
      "cell_type": "code",
      "source": [
        "# 문자열의 길이를 구함\n",
        "a = \"Life is too short\"\n",
        "len(a)"
      ],
      "metadata": {
        "colab": {
          "base_uri": "https://localhost:8080/"
        },
        "id": "rAfb7BL6sJd4",
        "outputId": "c2d89ba1-9d2b-4bcc-87b9-9a41fe167ee1"
      },
      "execution_count": 27,
      "outputs": [
        {
          "output_type": "execute_result",
          "data": {
            "text/plain": [
              "17"
            ]
          },
          "metadata": {},
          "execution_count": 27
        }
      ]
    },
    {
      "cell_type": "code",
      "source": [
        "# 문자열 인덱싱, 슬라이싱\n",
        "# 문자열은 문자를 배열로 만들어 놈 (0번 인덱스 부터 적용됨)\n",
        "\n",
        "a = \"Life is too short, You need Python\"\n",
        "# 0                 16                 33\n",
        "#                                -5     -1\n",
        "a[16]"
      ],
      "metadata": {
        "colab": {
          "base_uri": "https://localhost:8080/",
          "height": 35
        },
        "id": "smqhJVwRs_M4",
        "outputId": "48da9907-137d-4fe1-95ba-f17a5d11780e"
      },
      "execution_count": 28,
      "outputs": [
        {
          "output_type": "execute_result",
          "data": {
            "text/plain": [
              "'t'"
            ],
            "application/vnd.google.colaboratory.intrinsic+json": {
              "type": "string"
            }
          },
          "metadata": {},
          "execution_count": 28
        }
      ]
    },
    {
      "cell_type": "code",
      "source": [
        "a[-1] # 문자열을 뒤에서부터 읽기 위해서 - 기호를 붙임"
      ],
      "metadata": {
        "colab": {
          "base_uri": "https://localhost:8080/",
          "height": 35
        },
        "id": "skNQWsn_tt34",
        "outputId": "7ce891c5-f3a0-4ae6-d56d-db557c57c8dd"
      },
      "execution_count": 29,
      "outputs": [
        {
          "output_type": "execute_result",
          "data": {
            "text/plain": [
              "'n'"
            ],
            "application/vnd.google.colaboratory.intrinsic+json": {
              "type": "string"
            }
          },
          "metadata": {},
          "execution_count": 29
        }
      ]
    },
    {
      "cell_type": "code",
      "source": [
        "a[-5]"
      ],
      "metadata": {
        "colab": {
          "base_uri": "https://localhost:8080/",
          "height": 35
        },
        "id": "UsZKn0hSuIuo",
        "outputId": "f7d1e9c7-d6f9-4a9a-d0fc-3d8881bcf195"
      },
      "execution_count": 31,
      "outputs": [
        {
          "output_type": "execute_result",
          "data": {
            "text/plain": [
              "'y'"
            ],
            "application/vnd.google.colaboratory.intrinsic+json": {
              "type": "string"
            }
          },
          "metadata": {},
          "execution_count": 31
        }
      ]
    },
    {
      "cell_type": "code",
      "source": [
        "# 문자열 추출하기\n",
        "b = a[0]+a[1]+a[2]+a[3]\n",
        "b"
      ],
      "metadata": {
        "colab": {
          "base_uri": "https://localhost:8080/",
          "height": 35
        },
        "id": "HOKcAc2lucaH",
        "outputId": "85a2349c-167f-49b0-87f4-7d8ad75a7aae"
      },
      "execution_count": 34,
      "outputs": [
        {
          "output_type": "execute_result",
          "data": {
            "text/plain": [
              "'Life'"
            ],
            "application/vnd.google.colaboratory.intrinsic+json": {
              "type": "string"
            }
          },
          "metadata": {},
          "execution_count": 34
        }
      ]
    },
    {
      "cell_type": "code",
      "source": [
        "# 슬라이싱 기법\n",
        "a[0:4] # 0 <= a < 4"
      ],
      "metadata": {
        "colab": {
          "base_uri": "https://localhost:8080/",
          "height": 35
        },
        "id": "Y9xvL6Gxuw-w",
        "outputId": "c782d6cb-68a6-46c5-d1b1-6dbdbe80f6d3"
      },
      "execution_count": 36,
      "outputs": [
        {
          "output_type": "execute_result",
          "data": {
            "text/plain": [
              "'Life'"
            ],
            "application/vnd.google.colaboratory.intrinsic+json": {
              "type": "string"
            }
          },
          "metadata": {},
          "execution_count": 36
        }
      ]
    },
    {
      "cell_type": "code",
      "source": [
        "a[12:17]"
      ],
      "metadata": {
        "colab": {
          "base_uri": "https://localhost:8080/",
          "height": 35
        },
        "id": "0akhzWn8vRAI",
        "outputId": "4e69f268-ad3c-4668-a8f4-85ebfbf4070e"
      },
      "execution_count": 37,
      "outputs": [
        {
          "output_type": "execute_result",
          "data": {
            "text/plain": [
              "'short'"
            ],
            "application/vnd.google.colaboratory.intrinsic+json": {
              "type": "string"
            }
          },
          "metadata": {},
          "execution_count": 37
        }
      ]
    },
    {
      "cell_type": "code",
      "source": [
        "a[19:] # 19인덱스 부터 끝까지"
      ],
      "metadata": {
        "colab": {
          "base_uri": "https://localhost:8080/",
          "height": 35
        },
        "id": "GBXzCr0VvZCY",
        "outputId": "3a237475-6b9d-4690-e597-f9b231ebeb4d"
      },
      "execution_count": 38,
      "outputs": [
        {
          "output_type": "execute_result",
          "data": {
            "text/plain": [
              "'You need Python'"
            ],
            "application/vnd.google.colaboratory.intrinsic+json": {
              "type": "string"
            }
          },
          "metadata": {},
          "execution_count": 38
        }
      ]
    },
    {
      "cell_type": "code",
      "source": [
        "a[:19] # 처음부터 19인덱스 까지"
      ],
      "metadata": {
        "colab": {
          "base_uri": "https://localhost:8080/",
          "height": 35
        },
        "id": "HRRkdxqbvo0Y",
        "outputId": "41f54298-d9de-4632-f00a-5498a255fbf2"
      },
      "execution_count": 39,
      "outputs": [
        {
          "output_type": "execute_result",
          "data": {
            "text/plain": [
              "'Life is too short, '"
            ],
            "application/vnd.google.colaboratory.intrinsic+json": {
              "type": "string"
            }
          },
          "metadata": {},
          "execution_count": 39
        }
      ]
    },
    {
      "cell_type": "code",
      "source": [
        "a[:]"
      ],
      "metadata": {
        "colab": {
          "base_uri": "https://localhost:8080/",
          "height": 35
        },
        "id": "B0LDjCibvvYo",
        "outputId": "87ef0b1e-4d8c-42cd-fbce-472cdec7e5b6"
      },
      "execution_count": 40,
      "outputs": [
        {
          "output_type": "execute_result",
          "data": {
            "text/plain": [
              "'Life is too short, You need Python'"
            ],
            "application/vnd.google.colaboratory.intrinsic+json": {
              "type": "string"
            }
          },
          "metadata": {},
          "execution_count": 40
        }
      ]
    },
    {
      "cell_type": "code",
      "source": [
        "# 슬라이싱  활용해보기\n",
        "\n",
        "a = \"20010331Rainy\"\n",
        "date = a[:8]\n",
        "weather = a[8:]\n",
        "date"
      ],
      "metadata": {
        "colab": {
          "base_uri": "https://localhost:8080/",
          "height": 35
        },
        "id": "l7wnTQyRv8Qn",
        "outputId": "e92dec63-7d4e-4e36-8797-1d89831cadb3"
      },
      "execution_count": 42,
      "outputs": [
        {
          "output_type": "execute_result",
          "data": {
            "text/plain": [
              "'20010331'"
            ],
            "application/vnd.google.colaboratory.intrinsic+json": {
              "type": "string"
            }
          },
          "metadata": {},
          "execution_count": 42
        }
      ]
    },
    {
      "cell_type": "code",
      "source": [
        "weather"
      ],
      "metadata": {
        "colab": {
          "base_uri": "https://localhost:8080/",
          "height": 35
        },
        "id": "pePs1qBKwxKA",
        "outputId": "ffacfeff-a779-47e6-9ea7-a6fdda77e948"
      },
      "execution_count": 45,
      "outputs": [
        {
          "output_type": "execute_result",
          "data": {
            "text/plain": [
              "'Rainy'"
            ],
            "application/vnd.google.colaboratory.intrinsic+json": {
              "type": "string"
            }
          },
          "metadata": {},
          "execution_count": 45
        }
      ]
    },
    {
      "cell_type": "code",
      "source": [
        "a = \"20010331Rainy\"\n",
        "year = a[:4]\n",
        "day = a[4:8]\n",
        "weather = a[8:]\n",
        "year\n",
        "type(year)"
      ],
      "metadata": {
        "colab": {
          "base_uri": "https://localhost:8080/"
        },
        "id": "Y39R-PZ7w6O_",
        "outputId": "f12a3212-2315-4e02-b811-8c8a3b1669d7"
      },
      "execution_count": 47,
      "outputs": [
        {
          "output_type": "execute_result",
          "data": {
            "text/plain": [
              "str"
            ]
          },
          "metadata": {},
          "execution_count": 47
        }
      ]
    },
    {
      "cell_type": "code",
      "source": [
        "# 만약에 pithon 문자열을 만들었는데 python으로 교체가 될까?\n",
        "\n",
        "a = \"pithon\"\n",
        "a[1] = 'y'"
      ],
      "metadata": {
        "colab": {
          "base_uri": "https://localhost:8080/",
          "height": 182
        },
        "id": "_mINm-1Mxndn",
        "outputId": "558c91fc-95ae-40d1-cb89-17ed1a45b2b0"
      },
      "execution_count": 49,
      "outputs": [
        {
          "output_type": "error",
          "ename": "TypeError",
          "evalue": "'str' object does not support item assignment",
          "traceback": [
            "\u001b[0;31m---------------------------------------------------------------------------\u001b[0m",
            "\u001b[0;31mTypeError\u001b[0m                                 Traceback (most recent call last)",
            "\u001b[0;32m<ipython-input-49-82509298991b>\u001b[0m in \u001b[0;36m<cell line: 4>\u001b[0;34m()\u001b[0m\n\u001b[1;32m      2\u001b[0m \u001b[0;34m\u001b[0m\u001b[0m\n\u001b[1;32m      3\u001b[0m \u001b[0ma\u001b[0m \u001b[0;34m=\u001b[0m \u001b[0;34m\"pithon\"\u001b[0m\u001b[0;34m\u001b[0m\u001b[0;34m\u001b[0m\u001b[0m\n\u001b[0;32m----> 4\u001b[0;31m \u001b[0ma\u001b[0m\u001b[0;34m[\u001b[0m\u001b[0;36m1\u001b[0m\u001b[0;34m]\u001b[0m \u001b[0;34m=\u001b[0m \u001b[0;34m'y'\u001b[0m\u001b[0;34m\u001b[0m\u001b[0;34m\u001b[0m\u001b[0m\n\u001b[0m",
            "\u001b[0;31mTypeError\u001b[0m: 'str' object does not support item assignment"
          ]
        }
      ]
    },
    {
      "cell_type": "code",
      "source": [
        "b = \"pithon\"\n",
        "c = a[:1] + 'y' + a[2:]\n",
        "c # 결론 str 타입은 수정이 안됨!! -> 메서드를 활용하던지 쪼개서 붙이던지"
      ],
      "metadata": {
        "colab": {
          "base_uri": "https://localhost:8080/",
          "height": 35
        },
        "id": "3aULqm0B1IVW",
        "outputId": "5138a593-ec17-49b4-e3fc-2c3ab5c4ac92"
      },
      "execution_count": 52,
      "outputs": [
        {
          "output_type": "execute_result",
          "data": {
            "text/plain": [
              "'python'"
            ],
            "application/vnd.google.colaboratory.intrinsic+json": {
              "type": "string"
            }
          },
          "metadata": {},
          "execution_count": 52
        }
      ]
    },
    {
      "cell_type": "code",
      "source": [
        "# 문자열 포멧팅 -> 자바에서 printf와 같은 기능\n",
        "# 포멧팅은 동적 출력을 위한 기능으로 \"\"안에 정수나 문자열등을 추가할 때 활용\n",
        "\"i eat %d apples.\" % 3\n",
        "# %d는 포멧팅 코드\n",
        "# 마지막에 있는 %는 동적 값을 삽입 한다."
      ],
      "metadata": {
        "colab": {
          "base_uri": "https://localhost:8080/",
          "height": 35
        },
        "id": "BhMfCHtN1m7l",
        "outputId": "02213831-f954-40ba-e743-0960159e4f8b"
      },
      "execution_count": 53,
      "outputs": [
        {
          "output_type": "execute_result",
          "data": {
            "text/plain": [
              "'i eat 3 apples.'"
            ],
            "application/vnd.google.colaboratory.intrinsic+json": {
              "type": "string"
            }
          },
          "metadata": {},
          "execution_count": 53
        }
      ]
    },
    {
      "cell_type": "code",
      "source": [
        "\"I eat %s apples.\" % \"five\"\n",
        "# %s는 문자열이 동적으로 삽입 됨\n",
        "# 마지막에 % 뒤에는 문자열을 넣어야 함으로 \"\", '' 처리를 해야 한다."
      ],
      "metadata": {
        "id": "_A3vux_U2swV"
      },
      "execution_count": null,
      "outputs": []
    },
    {
      "cell_type": "code",
      "source": [
        "numer = 3\n",
        "\"I eat %d apples.\" % numer"
      ],
      "metadata": {
        "colab": {
          "base_uri": "https://localhost:8080/",
          "height": 35
        },
        "id": "HlThsVTL3MAe",
        "outputId": "e35e55c0-4b6c-4e53-d3f9-f153668466f2"
      },
      "execution_count": 54,
      "outputs": [
        {
          "output_type": "execute_result",
          "data": {
            "text/plain": [
              "'I eat 3 apples.'"
            ],
            "application/vnd.google.colaboratory.intrinsic+json": {
              "type": "string"
            }
          },
          "metadata": {},
          "execution_count": 54
        }
      ]
    },
    {
      "cell_type": "code",
      "source": [
        "numer= 10\n",
        "day = \"three\"\n",
        "\"I ate %d apples. so I was sick for %s days.\" % (numer, day)\n",
        "# 동적 매개 값을 2개이상 넣고 싶으면 괄호안에 쉼표로 넣음\n",
        "# 단, 순서와 타입은 맞출 것"
      ],
      "metadata": {
        "colab": {
          "base_uri": "https://localhost:8080/",
          "height": 35
        },
        "id": "aL5Ripji3jBV",
        "outputId": "67eec5fb-50d5-4d12-ed31-52e5f814d196"
      },
      "execution_count": 55,
      "outputs": [
        {
          "output_type": "execute_result",
          "data": {
            "text/plain": [
              "'I ate 10 apples. so I was sick for three days.'"
            ],
            "application/vnd.google.colaboratory.intrinsic+json": {
              "type": "string"
            }
          },
          "metadata": {},
          "execution_count": 55
        }
      ]
    },
    {
      "cell_type": "markdown",
      "source": [
        "\n",
        "\n",
        "*   %s : 문자열 (String)\n",
        "*   %d : 정수 (Integer)\n",
        "*   %c : 문자 (character) -> 1개 문자\n",
        "*   %f : 실수 (부동소수점)\n",
        "*   %o : 8진수\n",
        "*   %x : 16진수\n",
        "\n"
      ],
      "metadata": {
        "id": "2x5vTZ404Tpt"
      }
    },
    {
      "cell_type": "code",
      "source": [
        "#파이썬의 장점 %s는 정수나 실수를 자동타입으로 문자열 변환함\n",
        "\"I have %s apples\" % 3"
      ],
      "metadata": {
        "colab": {
          "base_uri": "https://localhost:8080/",
          "height": 35
        },
        "id": "54qB-exh47Bt",
        "outputId": "841c2d8c-be88-44ac-c303-ffc9bc79a88a"
      },
      "execution_count": 56,
      "outputs": [
        {
          "output_type": "execute_result",
          "data": {
            "text/plain": [
              "'I have 3 apples'"
            ],
            "application/vnd.google.colaboratory.intrinsic+json": {
              "type": "string"
            }
          },
          "metadata": {},
          "execution_count": 56
        }
      ]
    },
    {
      "cell_type": "code",
      "source": [
        "\"rate is %s\" % 3.234"
      ],
      "metadata": {
        "colab": {
          "base_uri": "https://localhost:8080/",
          "height": 35
        },
        "id": "bGinn9S45KSF",
        "outputId": "2094d3d9-72d2-4a8f-a691-3e6012f33f3a"
      },
      "execution_count": 57,
      "outputs": [
        {
          "output_type": "execute_result",
          "data": {
            "text/plain": [
              "'rate is 3.234'"
            ],
            "application/vnd.google.colaboratory.intrinsic+json": {
              "type": "string"
            }
          },
          "metadata": {},
          "execution_count": 57
        }
      ]
    },
    {
      "cell_type": "code",
      "source": [
        "# 문자열안에 %를 넣고 싶을 때 -> Error is 98%.\n",
        "\"Eroor is %d%.\" % 98"
      ],
      "metadata": {
        "colab": {
          "base_uri": "https://localhost:8080/",
          "height": 164
        },
        "id": "VjLbei1u5fJU",
        "outputId": "6b52850d-3723-4ca3-cd27-a21ff3427e95"
      },
      "execution_count": 58,
      "outputs": [
        {
          "output_type": "error",
          "ename": "ValueError",
          "evalue": "incomplete format",
          "traceback": [
            "\u001b[0;31m---------------------------------------------------------------------------\u001b[0m",
            "\u001b[0;31mValueError\u001b[0m                                Traceback (most recent call last)",
            "\u001b[0;32m<ipython-input-58-5caf378e2c6c>\u001b[0m in \u001b[0;36m<cell line: 2>\u001b[0;34m()\u001b[0m\n\u001b[1;32m      1\u001b[0m \u001b[0;31m# 문자열안에 %를 넣고 싶을 때 -> Error is 98%.\u001b[0m\u001b[0;34m\u001b[0m\u001b[0;34m\u001b[0m\u001b[0m\n\u001b[0;32m----> 2\u001b[0;31m \u001b[0;34m\"Eroor is %d%.\"\u001b[0m \u001b[0;34m%\u001b[0m \u001b[0;36m98\u001b[0m\u001b[0;34m\u001b[0m\u001b[0;34m\u001b[0m\u001b[0m\n\u001b[0m",
            "\u001b[0;31mValueError\u001b[0m: incomplete format"
          ]
        }
      ]
    },
    {
      "cell_type": "code",
      "source": [
        "\"Eroor is %d%%.\" % 98   # 확률을 출력할 때 %는 예약어로 2번써야(%%) 문자열 처리됨"
      ],
      "metadata": {
        "colab": {
          "base_uri": "https://localhost:8080/",
          "height": 35
        },
        "id": "DaU7Y_Lt59ck",
        "outputId": "15c73235-3273-41a4-f799-a2ef3952ea56"
      },
      "execution_count": 59,
      "outputs": [
        {
          "output_type": "execute_result",
          "data": {
            "text/plain": [
              "'Eroor is 98%.'"
            ],
            "application/vnd.google.colaboratory.intrinsic+json": {
              "type": "string"
            }
          },
          "metadata": {},
          "execution_count": 59
        }
      ]
    },
    {
      "cell_type": "code",
      "source": [
        "# 포멕팅 숫자 처리(문자는 기본적으로 왼쪽 정렬, 숫자를 오른쪽 정렬)\n",
        "\n",
        "\"%-10s MBC ai\" % \"hi\"    # -10 문자열 10칸을 여백으로 생성하고 그 안쪽에 문자를 왼쪽 정렬하여 넣음"
      ],
      "metadata": {
        "colab": {
          "base_uri": "https://localhost:8080/",
          "height": 35
        },
        "id": "gCGgaxvp6hRl",
        "outputId": "44dd8e2e-6bcc-4cc7-9834-0b64aefdf0e5"
      },
      "execution_count": 62,
      "outputs": [
        {
          "output_type": "execute_result",
          "data": {
            "text/plain": [
              "'hi         MBC ai'"
            ],
            "application/vnd.google.colaboratory.intrinsic+json": {
              "type": "string"
            }
          },
          "metadata": {},
          "execution_count": 62
        }
      ]
    },
    {
      "cell_type": "code",
      "source": [
        "# 소수점 포맷팅\n",
        "\"%10.4f\" % 333333333.1415937   # 0.4는 소수점 4자리까지 출력(반올림)\n",
        "# 정수쪽 10은 기본 자리수가 10자리지만 넘치면 알아서 늘려줌"
      ],
      "metadata": {
        "colab": {
          "base_uri": "https://localhost:8080/",
          "height": 35
        },
        "id": "KjKnFO_D8AhU",
        "outputId": "04bad148-a2f1-4877-b178-a6ec573b8114"
      },
      "execution_count": 67,
      "outputs": [
        {
          "output_type": "execute_result",
          "data": {
            "text/plain": [
              "'333333333.1416'"
            ],
            "application/vnd.google.colaboratory.intrinsic+json": {
              "type": "string"
            }
          },
          "metadata": {},
          "execution_count": 67
        }
      ]
    },
    {
      "cell_type": "code",
      "source": [
        "# 포멧팅에 가독성을 높이기 위해서 .format()메서드를 만들어 놓았다.\n",
        "\" I eat {0} apples\".format(3)"
      ],
      "metadata": {
        "colab": {
          "base_uri": "https://localhost:8080/",
          "height": 35
        },
        "id": "6KXhBTRz9cQ9",
        "outputId": "1838306a-d171-44a4-dff2-c8f552f28feb"
      },
      "execution_count": 68,
      "outputs": [
        {
          "output_type": "execute_result",
          "data": {
            "text/plain": [
              "' I eat 3 apples'"
            ],
            "application/vnd.google.colaboratory.intrinsic+json": {
              "type": "string"
            }
          },
          "metadata": {},
          "execution_count": 68
        }
      ]
    },
    {
      "cell_type": "code",
      "source": [
        "\" I eat {0} apples\".format(\"five\")"
      ],
      "metadata": {
        "colab": {
          "base_uri": "https://localhost:8080/",
          "height": 35
        },
        "id": "VSmuqTKG-BHs",
        "outputId": "dbb03b40-7e81-4e25-8b51-e40337e86b10"
      },
      "execution_count": 69,
      "outputs": [
        {
          "output_type": "execute_result",
          "data": {
            "text/plain": [
              "' I eat five apples'"
            ],
            "application/vnd.google.colaboratory.intrinsic+json": {
              "type": "string"
            }
          },
          "metadata": {},
          "execution_count": 69
        }
      ]
    },
    {
      "cell_type": "code",
      "source": [
        "numer = 3\n",
        "\" I eat {0} apples\".format(numer)"
      ],
      "metadata": {
        "colab": {
          "base_uri": "https://localhost:8080/",
          "height": 35
        },
        "id": "FgacyK5--O8k",
        "outputId": "1f609b65-c9e4-4c1f-c1fe-7cda209d78b1"
      },
      "execution_count": 70,
      "outputs": [
        {
          "output_type": "execute_result",
          "data": {
            "text/plain": [
              "' I eat 3 apples'"
            ],
            "application/vnd.google.colaboratory.intrinsic+json": {
              "type": "string"
            }
          },
          "metadata": {},
          "execution_count": 70
        }
      ]
    },
    {
      "cell_type": "code",
      "source": [
        "numer = 10\n",
        "day = \"three\"\n",
        "\"I ate {1} apples. so I was sick for {0} days.\".format(numer, day)"
      ],
      "metadata": {
        "colab": {
          "base_uri": "https://localhost:8080/",
          "height": 35
        },
        "id": "XdCOFPW7-bOL",
        "outputId": "613786df-c0b2-4e99-d129-5eb5d03d27a1"
      },
      "execution_count": 72,
      "outputs": [
        {
          "output_type": "execute_result",
          "data": {
            "text/plain": [
              "'I ate three apples. so I was sick for 10 days.'"
            ],
            "application/vnd.google.colaboratory.intrinsic+json": {
              "type": "string"
            }
          },
          "metadata": {},
          "execution_count": 72
        }
      ]
    },
    {
      "cell_type": "code",
      "source": [
        "\"I ate {number} apples. so I was sick for {day}.\".format(number=10, day=3)"
      ],
      "metadata": {
        "colab": {
          "base_uri": "https://localhost:8080/",
          "height": 35
        },
        "id": "nXjdPao8-6ts",
        "outputId": "9dda867b-80b3-4e73-db0d-a346ad58004e"
      },
      "execution_count": 73,
      "outputs": [
        {
          "output_type": "execute_result",
          "data": {
            "text/plain": [
              "'I ate 10 apples. so I was sick for 3.'"
            ],
            "application/vnd.google.colaboratory.intrinsic+json": {
              "type": "string"
            }
          },
          "metadata": {},
          "execution_count": 73
        }
      ]
    },
    {
      "cell_type": "code",
      "source": [
        "\"I ate {0} apples. so I was sick for {day} days\".format(10, day=3)"
      ],
      "metadata": {
        "colab": {
          "base_uri": "https://localhost:8080/",
          "height": 35
        },
        "id": "3X13WIxC_Mhr",
        "outputId": "48fbd92a-8672-40ef-8fb0-d2278021a7f0"
      },
      "execution_count": 76,
      "outputs": [
        {
          "output_type": "execute_result",
          "data": {
            "text/plain": [
              "'I ate 10 apples. so I was sick for 3 days'"
            ],
            "application/vnd.google.colaboratory.intrinsic+json": {
              "type": "string"
            }
          },
          "metadata": {},
          "execution_count": 76
        }
      ]
    },
    {
      "cell_type": "code",
      "source": [
        "\"MBC AI {0:^10} PYTHON\".format(\"hi\")"
      ],
      "metadata": {
        "colab": {
          "base_uri": "https://localhost:8080/",
          "height": 35
        },
        "id": "VP1BUnra_ehz",
        "outputId": "649c4a23-6a8e-4418-fa99-cf31eba2749d"
      },
      "execution_count": 79,
      "outputs": [
        {
          "output_type": "execute_result",
          "data": {
            "text/plain": [
              "'MBC AI     hi     PYTHON'"
            ],
            "application/vnd.google.colaboratory.intrinsic+json": {
              "type": "string"
            }
          },
          "metadata": {},
          "execution_count": 79
        }
      ]
    },
    {
      "cell_type": "code",
      "source": [
        "\"{0:=^10}\".format(\"hi\")"
      ],
      "metadata": {
        "colab": {
          "base_uri": "https://localhost:8080/",
          "height": 35
        },
        "id": "k9NiiuDRLg3h",
        "outputId": "850498c6-d1e8-4921-8f15-0aa9be677ed6"
      },
      "execution_count": 82,
      "outputs": [
        {
          "output_type": "execute_result",
          "data": {
            "text/plain": [
              "'====hi===='"
            ],
            "application/vnd.google.colaboratory.intrinsic+json": {
              "type": "string"
            }
          },
          "metadata": {},
          "execution_count": 82
        }
      ]
    },
    {
      "cell_type": "code",
      "source": [
        "\"{0:!<10}\".format(\"hi\")"
      ],
      "metadata": {
        "colab": {
          "base_uri": "https://localhost:8080/",
          "height": 35
        },
        "id": "TtrJ5E_2L3zf",
        "outputId": "257f3e98-8675-46df-e414-c13d78d08344"
      },
      "execution_count": 83,
      "outputs": [
        {
          "output_type": "execute_result",
          "data": {
            "text/plain": [
              "'hi!!!!!!!!'"
            ],
            "application/vnd.google.colaboratory.intrinsic+json": {
              "type": "string"
            }
          },
          "metadata": {},
          "execution_count": 83
        }
      ]
    },
    {
      "cell_type": "code",
      "source": [
        "# 소수점 표현하기\n",
        "y = 3.987654321\n",
        "\"{0:10.4f}\".format(y) # 총 자리수 10자리 중에 소수점 4자리로 출력"
      ],
      "metadata": {
        "colab": {
          "base_uri": "https://localhost:8080/",
          "height": 35
        },
        "id": "8ajd7SlsMJMX",
        "outputId": "3ec850d2-ac45-4838-b24b-4bc6366b5bd0"
      },
      "execution_count": 85,
      "outputs": [
        {
          "output_type": "execute_result",
          "data": {
            "text/plain": [
              "'    3.9877'"
            ],
            "application/vnd.google.colaboratory.intrinsic+json": {
              "type": "string"
            }
          },
          "metadata": {},
          "execution_count": 85
        }
      ]
    },
    {
      "cell_type": "code",
      "source": [
        "# { 문자 } 출력 하고 싶을 때\n",
        "\"{{ 문자 }}\".format()\n",
        "# 예약기호를 2번 연속 기입하면 문자형태로 출력 가능"
      ],
      "metadata": {
        "colab": {
          "base_uri": "https://localhost:8080/",
          "height": 35
        },
        "id": "BP7IQL2UMtPn",
        "outputId": "1466c1e8-13bb-4180-e056-a959e49691b6"
      },
      "execution_count": 87,
      "outputs": [
        {
          "output_type": "execute_result",
          "data": {
            "text/plain": [
              "'{ 문자 }'"
            ],
            "application/vnd.google.colaboratory.intrinsic+json": {
              "type": "string"
            }
          },
          "metadata": {},
          "execution_count": 87
        }
      ]
    },
    {
      "cell_type": "code",
      "source": [
        "# 파이썬 3.6 이상 버전의 최신 포멧팅\n",
        "# .format() 메서드를 사용하지 않는 기법 -> 접두사로 f를 기입\n",
        "\n",
        "name = \"장윤진\"\n",
        "age = 21\n",
        "text = f\"\"\"나의 이름은 {name}입니다.\n",
        "나이는{age+5}입니다.\"\"\"\n",
        "print(text)"
      ],
      "metadata": {
        "colab": {
          "base_uri": "https://localhost:8080/"
        },
        "id": "M0atHd7ENcWB",
        "outputId": "e2b17ec7-4193-40cc-d2ee-b21c6edcd900"
      },
      "execution_count": 93,
      "outputs": [
        {
          "output_type": "stream",
          "name": "stdout",
          "text": [
            "나의 이름은 장윤진입니다. \n",
            "나이는26입니다.\n"
          ]
        }
      ]
    },
    {
      "cell_type": "code",
      "source": [
        "# 딕셔너리를 활용한 포멧팅 ( key:value )\n",
        "d = {'name':'홍길동', 'age':30}\n",
        "f'나의 이름은 {d[\"name\"]}입니다. 나이는 {d[\"age\"]}입니다.'"
      ],
      "metadata": {
        "colab": {
          "base_uri": "https://localhost:8080/",
          "height": 35
        },
        "id": "aHSQ-Z_EO7OY",
        "outputId": "ddb80908-7258-44a5-861f-d95e95159f24"
      },
      "execution_count": 94,
      "outputs": [
        {
          "output_type": "execute_result",
          "data": {
            "text/plain": [
              "'나의 이름은 홍길동입니다. 나이는 30입니다.'"
            ],
            "application/vnd.google.colaboratory.intrinsic+json": {
              "type": "string"
            }
          },
          "metadata": {},
          "execution_count": 94
        }
      ]
    },
    {
      "cell_type": "code",
      "source": [
        "f'{\"hi\":<10}'"
      ],
      "metadata": {
        "colab": {
          "base_uri": "https://localhost:8080/",
          "height": 35
        },
        "id": "aRG-mw6EQXC-",
        "outputId": "7fb63310-6277-4062-a3ae-fe0b50f4567a"
      },
      "execution_count": 97,
      "outputs": [
        {
          "output_type": "execute_result",
          "data": {
            "text/plain": [
              "'hi        '"
            ],
            "application/vnd.google.colaboratory.intrinsic+json": {
              "type": "string"
            }
          },
          "metadata": {},
          "execution_count": 97
        }
      ]
    },
    {
      "cell_type": "code",
      "source": [
        "f'{\"hi\":=^10}'"
      ],
      "metadata": {
        "colab": {
          "base_uri": "https://localhost:8080/",
          "height": 35
        },
        "id": "Q4RzwXprQpFt",
        "outputId": "47d7216b-ab05-4f5a-99c3-1ba8cec06f61"
      },
      "execution_count": 98,
      "outputs": [
        {
          "output_type": "execute_result",
          "data": {
            "text/plain": [
              "'====hi===='"
            ],
            "application/vnd.google.colaboratory.intrinsic+json": {
              "type": "string"
            }
          },
          "metadata": {},
          "execution_count": 98
        }
      ]
    },
    {
      "cell_type": "code",
      "source": [
        "y = 3.42134234\n",
        "f'{y:_>10.4f}'"
      ],
      "metadata": {
        "colab": {
          "base_uri": "https://localhost:8080/",
          "height": 35
        },
        "id": "17M5VgacQ9Zl",
        "outputId": "d325fca5-55d0-4da9-c121-1d11bd4ba217"
      },
      "execution_count": 100,
      "outputs": [
        {
          "output_type": "execute_result",
          "data": {
            "text/plain": [
              "'____3.4213'"
            ],
            "application/vnd.google.colaboratory.intrinsic+json": {
              "type": "string"
            }
          },
          "metadata": {},
          "execution_count": 100
        }
      ]
    },
    {
      "cell_type": "code",
      "source": [
        "# { 문자 }로 출력하고 싶을 때\n",
        "f'{{문자}}'"
      ],
      "metadata": {
        "colab": {
          "base_uri": "https://localhost:8080/",
          "height": 35
        },
        "id": "E5XlUZ3WRl8m",
        "outputId": "eaf5847d-30a5-4822-8d9c-d7a839b24909"
      },
      "execution_count": 103,
      "outputs": [
        {
          "output_type": "execute_result",
          "data": {
            "text/plain": [
              "'{문자}'"
            ],
            "application/vnd.google.colaboratory.intrinsic+json": {
              "type": "string"
            }
          },
          "metadata": {},
          "execution_count": 103
        }
      ]
    }
  ]
}