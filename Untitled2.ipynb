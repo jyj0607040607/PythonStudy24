{
  "nbformat": 4,
  "nbformat_minor": 0,
  "metadata": {
    "colab": {
      "provenance": [],
      "authorship_tag": "ABX9TyP4FZI+M/JB+uLHquNnlkgu",
      "include_colab_link": true
    },
    "kernelspec": {
      "name": "python3",
      "display_name": "Python 3"
    },
    "language_info": {
      "name": "python"
    }
  },
  "cells": [
    {
      "cell_type": "markdown",
      "metadata": {
        "id": "view-in-github",
        "colab_type": "text"
      },
      "source": [
        "<a href=\"https://colab.research.google.com/github/jyj0607040607/PythonStudy24/blob/master/Untitled2.ipynb\" target=\"_parent\"><img src=\"https://colab.research.google.com/assets/colab-badge.svg\" alt=\"Open In Colab\"/></a>"
      ]
    },
    {
      "cell_type": "markdown",
      "source": [
        "이스케이프 코드\n",
        "\n",
        "\n",
        "\\n = 문자열 안에서 줄을 바꿀 때 사용\n",
        "\n",
        "\\t = 문자열 사이에 탭 간격을 줄 때 사용\n",
        "\n",
        "\\\\ = \\를 그대로 표현할 때 사용\n",
        "\n",
        "\\' = 작은따옴표(')를 그대로 표현할 때 사용\n",
        "\n",
        "\\\" = 큰따옴표(\")를 그대로 표현할 때 사용\n",
        "\n",
        "\\r = 캐리지 리턴(줄 바꿈 문자, 커서를 현재 줄의 가장 앞으로 이동)\n",
        "\n",
        "\\f = 폼 피드(줄 바꿈 문자, 커서를 현재 줄의 다음 줄로 이동)\n",
        "\n",
        "\\a = 벨 소리(출력 할 때 PC 스피커에서 '삑' 소리가 난다)\n",
        "\n",
        "\\b = 백 스페이스\n",
        "\n",
        "\\000 = 널 문자\n",
        "\n",
        "(빈도가 높은것은 \\n, \\t, \\\\, \\', \\\"이다. 나머지는 프로그램에서 잘 사용하지 않는다.)"
      ],
      "metadata": {
        "id": "lTBjeWv4-_C4"
      }
    },
    {
      "cell_type": "code",
      "execution_count": 1,
      "metadata": {
        "colab": {
          "base_uri": "https://localhost:8080/",
          "height": 35
        },
        "id": "opZ05xWv-zKP",
        "outputId": "859a0712-201d-4254-ac98-bfb8cd5752d7"
      },
      "outputs": [
        {
          "output_type": "execute_result",
          "data": {
            "text/plain": [
              "'Hello World'"
            ],
            "application/vnd.google.colaboratory.intrinsic+json": {
              "type": "string"
            }
          },
          "metadata": {},
          "execution_count": 1
        }
      ],
      "source": [
        "\"Hello World\""
      ]
    },
    {
      "cell_type": "code",
      "source": [
        "'python is fun'"
      ],
      "metadata": {
        "colab": {
          "base_uri": "https://localhost:8080/",
          "height": 35
        },
        "id": "qhpz6hoqB4V0",
        "outputId": "80e01868-f538-4585-a300-2327d5eda1e3"
      },
      "execution_count": 2,
      "outputs": [
        {
          "output_type": "execute_result",
          "data": {
            "text/plain": [
              "'python is fun'"
            ],
            "application/vnd.google.colaboratory.intrinsic+json": {
              "type": "string"
            }
          },
          "metadata": {},
          "execution_count": 2
        }
      ]
    },
    {
      "cell_type": "code",
      "source": [
        "\"\"\"Life is too short, You need python\"\"\""
      ],
      "metadata": {
        "colab": {
          "base_uri": "https://localhost:8080/",
          "height": 35
        },
        "id": "a2ZjvY_4B8Ys",
        "outputId": "05f71bf1-1d32-4583-87d5-d85404c4ef40"
      },
      "execution_count": 3,
      "outputs": [
        {
          "output_type": "execute_result",
          "data": {
            "text/plain": [
              "'Life is too short, You need python'"
            ],
            "application/vnd.google.colaboratory.intrinsic+json": {
              "type": "string"
            }
          },
          "metadata": {},
          "execution_count": 3
        }
      ]
    },
    {
      "cell_type": "code",
      "source": [
        "food = \"python's favorite food is perl\""
      ],
      "metadata": {
        "id": "jUNV175qCFnk"
      },
      "execution_count": 4,
      "outputs": []
    },
    {
      "cell_type": "code",
      "source": [
        "food"
      ],
      "metadata": {
        "colab": {
          "base_uri": "https://localhost:8080/",
          "height": 35
        },
        "id": "EVZQRwieEv_c",
        "outputId": "427083a4-5438-4f5d-bc74-42325fe63c2a"
      },
      "execution_count": 5,
      "outputs": [
        {
          "output_type": "execute_result",
          "data": {
            "text/plain": [
              "\"python's favorite food is perl\""
            ],
            "application/vnd.google.colaboratory.intrinsic+json": {
              "type": "string"
            }
          },
          "metadata": {},
          "execution_count": 5
        }
      ]
    },
    {
      "cell_type": "code",
      "source": [],
      "metadata": {
        "id": "6hXfDuJxEzAr"
      },
      "execution_count": null,
      "outputs": []
    }
  ]
}