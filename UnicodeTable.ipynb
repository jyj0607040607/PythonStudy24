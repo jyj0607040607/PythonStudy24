{
  "nbformat": 4,
  "nbformat_minor": 0,
  "metadata": {
    "colab": {
      "provenance": [],
      "authorship_tag": "ABX9TyP6xDCdajE/4KNnEw+A8JIb",
      "include_colab_link": true
    },
    "kernelspec": {
      "name": "python3",
      "display_name": "Python 3"
    },
    "language_info": {
      "name": "python"
    }
  },
  "cells": [
    {
      "cell_type": "markdown",
      "metadata": {
        "id": "view-in-github",
        "colab_type": "text"
      },
      "source": [
        "<a href=\"https://colab.research.google.com/github/jyj0607040607/PythonStudy24/blob/master/UnicodeTable.ipynb\" target=\"_parent\"><img src=\"https://colab.research.google.com/assets/colab-badge.svg\" alt=\"Open In Colab\"/></a>"
      ]
    },
    {
      "cell_type": "code",
      "execution_count": 1,
      "metadata": {
        "id": "QxSfyPQ7ROUN"
      },
      "outputs": [],
      "source": [
        "a = \"Life is too short\""
      ]
    },
    {
      "cell_type": "code",
      "source": [
        "a = \"Life is too short\"\n",
        "b = a.encode('utf-8')\n",
        "b"
      ],
      "metadata": {
        "colab": {
          "base_uri": "https://localhost:8080/"
        },
        "id": "oVpmdvXjRm9-",
        "outputId": "92a8e06d-cbd8-4a47-bc9e-20e875551dec"
      },
      "execution_count": 2,
      "outputs": [
        {
          "output_type": "execute_result",
          "data": {
            "text/plain": [
              "b'Life is too short'"
            ]
          },
          "metadata": {},
          "execution_count": 2
        }
      ]
    },
    {
      "cell_type": "code",
      "source": [
        "type(b)"
      ],
      "metadata": {
        "colab": {
          "base_uri": "https://localhost:8080/"
        },
        "id": "6WYtlbSERy72",
        "outputId": "5c535231-5f97-4a03-99b2-62b55a588901"
      },
      "execution_count": 3,
      "outputs": [
        {
          "output_type": "execute_result",
          "data": {
            "text/plain": [
              "bytes"
            ]
          },
          "metadata": {},
          "execution_count": 3
        }
      ]
    },
    {
      "cell_type": "code",
      "source": [
        "a = '한글'\n",
        "a.encode('euc-kr')"
      ],
      "metadata": {
        "colab": {
          "base_uri": "https://localhost:8080/"
        },
        "id": "fUZIaqZXR1Rm",
        "outputId": "d59b07fd-b3fc-458e-ce9b-532ecd4983f6"
      },
      "execution_count": 8,
      "outputs": [
        {
          "output_type": "execute_result",
          "data": {
            "text/plain": [
              "b'\\xc7\\xd1\\xb1\\xdb'"
            ]
          },
          "metadata": {},
          "execution_count": 8
        }
      ]
    },
    {
      "cell_type": "code",
      "source": [
        "a.encode('utf-8')"
      ],
      "metadata": {
        "colab": {
          "base_uri": "https://localhost:8080/"
        },
        "id": "sXLYZNP6TH8n",
        "outputId": "1e1b6a06-fc62-400d-ac25-6d5253d4286c"
      },
      "execution_count": 9,
      "outputs": [
        {
          "output_type": "execute_result",
          "data": {
            "text/plain": [
              "b'\\xed\\x95\\x9c\\xea\\xb8\\x80'"
            ]
          },
          "metadata": {},
          "execution_count": 9
        }
      ]
    },
    {
      "cell_type": "code",
      "source": [
        "a = '한글'\n",
        "b = a.encode('euc-kr')\n",
        "b.decode('euc-kr')"
      ],
      "metadata": {
        "colab": {
          "base_uri": "https://localhost:8080/",
          "height": 35
        },
        "id": "jkPMDE-ETOM9",
        "outputId": "269e6df1-2df6-47d9-9e05-4dda08b0b69a"
      },
      "execution_count": 11,
      "outputs": [
        {
          "output_type": "execute_result",
          "data": {
            "text/plain": [
              "'한글'"
            ],
            "application/vnd.google.colaboratory.intrinsic+json": {
              "type": "string"
            }
          },
          "metadata": {},
          "execution_count": 11
        }
      ]
    },
    {
      "cell_type": "markdown",
      "source": [
        "파일을 읽거나 네트워크를 통해 데이터를 주고 받을 때 추천하는 방법\n",
        "\n",
        "\n",
        "1.   입력으로 받은 바이트 문자열은 되도록 빨리 유니코드 문자열로 디코딩한다.\n",
        "2.   함수나 클래스 등에서는 유니코드 문자열만 사용한다.\n",
        "3.   입력에 대한 결과를 전송하는 마지막 부분에서만 유니코드 문자열을 바이트 문자열로 인코딩해서 반환한다.\n",
        "\n"
      ],
      "metadata": {
        "id": "XEE_g0BmTamd"
      }
    },
    {
      "cell_type": "code",
      "source": [
        "with open('euc_kr.txt', encoding='euc-kr') as f :\n",
        "    data = f.re"
      ],
      "metadata": {
        "id": "jELvKwrIULFO"
      },
      "execution_count": null,
      "outputs": []
    }
  ]
}