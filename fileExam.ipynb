{
  "nbformat": 4,
  "nbformat_minor": 0,
  "metadata": {
    "colab": {
      "provenance": [],
      "authorship_tag": "ABX9TyOyWXvGguVpsl1v4T8o7Dkk",
      "include_colab_link": true
    },
    "kernelspec": {
      "name": "python3",
      "display_name": "Python 3"
    },
    "language_info": {
      "name": "python"
    }
  },
  "cells": [
    {
      "cell_type": "markdown",
      "metadata": {
        "id": "view-in-github",
        "colab_type": "text"
      },
      "source": [
        "<a href=\"https://colab.research.google.com/github/jyj0607040607/PythonStudy24/blob/master/fileExam.ipynb\" target=\"_parent\"><img src=\"https://colab.research.google.com/assets/colab-badge.svg\" alt=\"Open In Colab\"/></a>"
      ]
    },
    {
      "cell_type": "markdown",
      "source": [
        "파일 읽고 쓰기 연습\n",
        "\n",
        "파이썬은 실무에서 엑셀파일 .csv파일로 저장하여 불러와 데이터 분석등을 한다.\n",
        "\n",
        ".csv는 엑셀에서 표에 있는 값을 텍스트로 저장하는 다른 이름으로 저장 기법을 말함\n",
        "\n",
        "현재 코랩으로 실습을 진행하면 구글에서 제공하는 vm을 사용함\n",
        "리눅스 커널로 되어 있어 coontent 디렉토리에서 저장됨\n",
        "c:\\로 되어 있는 것은 윈도우 커널로 파이참에서 실습을 함"
      ],
      "metadata": {
        "id": "p3h-HDSrTaqs"
      }
    },
    {
      "cell_type": "code",
      "execution_count": 6,
      "metadata": {
        "id": "jM8sGYP_JBLd"
      },
      "outputs": [],
      "source": [
        "# 파일 생성하기 실슴\n",
        "f = open(\"새 파일.txt\", 'w')   # open() 파일을 연다.\n",
        "for i in range(1,11) :            # 1 ~ 10까지 숫자범위 만들어 i에 넣음\n",
        "    data = \"%d번째 줄입니다. \\n\"  % i\n",
        "    f.write(data)               # data값을 파일에 기록\n",
        "f.close()                       # 연 파일을 닫는다.\n",
        "\n",
        "# 파일에 권한 부여\n",
        "# 'w' : 쓰기 가능모드\n",
        "# 'r' : 읽기만 가능모드\n",
        "# 'a' : 추가모드 (파일 마지막에 새로운  내용 추가)"
      ]
    },
    {
      "cell_type": "code",
      "source": [
        "# 저장된 파일내용 가져와 출력하기\n",
        "f = open(\"새 파일.txt\", 'r')\n",
        "line = f.readline()     # 첫줄에 내용 가져와 line 변수에 넣음\n",
        "print(line)\n",
        "f.close()"
      ],
      "metadata": {
        "colab": {
          "base_uri": "https://localhost:8080/"
        },
        "id": "qVj2P1trW63L",
        "outputId": "40d86ca8-84d7-4f3f-be8a-232997a452e9"
      },
      "execution_count": 7,
      "outputs": [
        {
          "output_type": "stream",
          "name": "stdout",
          "text": [
            "1번째 줄입니다. \n",
            "\n"
          ]
        }
      ]
    },
    {
      "cell_type": "code",
      "source": [
        "# 무한루프, while로 가져오기\n",
        "f = open(\"새 파일.txt\", 'r')\n",
        "while True :                    # 무한루프 동작\n",
        "    line = f.readline()         # 한줄씩 읽어\n",
        "    if not line : break         # 마지막 줄인지 확인 : 중단\n",
        "    print(line)                 # 출력\n",
        "f.close()                       # 파일 닫기"
      ],
      "metadata": {
        "colab": {
          "base_uri": "https://localhost:8080/"
        },
        "id": "viE--sGHYzQr",
        "outputId": "986db43a-cc1f-4366-f41c-abc4104f73b3"
      },
      "execution_count": 8,
      "outputs": [
        {
          "output_type": "stream",
          "name": "stdout",
          "text": [
            "1번째 줄입니다. \n",
            "\n",
            "2번째 줄입니다. \n",
            "\n",
            "3번째 줄입니다. \n",
            "\n",
            "4번째 줄입니다. \n",
            "\n",
            "5번째 줄입니다. \n",
            "\n",
            "6번째 줄입니다. \n",
            "\n",
            "7번째 줄입니다. \n",
            "\n",
            "8번째 줄입니다. \n",
            "\n",
            "9번째 줄입니다. \n",
            "\n",
            "10번째 줄입니다. \n",
            "\n"
          ]
        }
      ]
    },
    {
      "cell_type": "code",
      "source": [
        "# .readlines()\n",
        "f = open(\"새 파일.txt\", 'r')\n",
        "lines = f.readlines()           # 새파일 텍스트 문자열을 리스트로 만듬\n",
        "for line in lines :\n",
        "    print(line.strip())                 # 리스트 내용 출력\n",
        "             # strip() 메서드는 줄끝의 줄 바꿈 문자를 제거함\n",
        "f.close()"
      ],
      "metadata": {
        "colab": {
          "base_uri": "https://localhost:8080/"
        },
        "id": "PzPoklz5ZHO6",
        "outputId": "aaaf7419-b31e-4f38-cc6e-a944e04ba42b"
      },
      "execution_count": 11,
      "outputs": [
        {
          "output_type": "stream",
          "name": "stdout",
          "text": [
            "1번째 줄입니다.\n",
            "2번째 줄입니다.\n",
            "3번째 줄입니다.\n",
            "4번째 줄입니다.\n",
            "5번째 줄입니다.\n",
            "6번째 줄입니다.\n",
            "7번째 줄입니다.\n",
            "8번째 줄입니다.\n",
            "9번째 줄입니다.\n",
            "10번째 줄입니다.\n"
          ]
        }
      ]
    },
    {
      "cell_type": "code",
      "source": [
        "# rdad() 함수 사용\n",
        "\n",
        "f = open(\"새 파일.txt\", 'r')\n",
        "data = f.read()                  # .read() 텍스트 안에 있는 모든값을 문자열로 가져옴\n",
        "print(data)\n",
        "f.close()"
      ],
      "metadata": {
        "id": "4fWjX10jaEtK"
      },
      "execution_count": null,
      "outputs": []
    },
    {
      "cell_type": "code",
      "source": [
        "# 파일에 새로운 내용 추가해보기\n",
        "\n",
        "# 'w'의 특징은 파일을 열때 이미 존재하는 파일이면 전에 내용이 사라짐\n",
        "f = open(\"새파일.txt\", 'w')\n",
        "for i in range(1,11) :\n",
        "    data = \"%d번째 행입니다. \\n\"  % i\n",
        "    f.write(data)\n",
        "\n",
        "f.close()"
      ],
      "metadata": {
        "id": "20BWztmtbZ6i"
      },
      "execution_count": 15,
      "outputs": []
    },
    {
      "cell_type": "code",
      "source": [
        "# \"w\"를 'a'로 변경하던지 파일명을 다른이름으로 저장해야 한다.\n",
        "\n",
        "f = open(\"새파일.txt\", 'a')   # a 추가용\n",
        "for i in range(11,20) :       # 11 ~ 20번 범위\n",
        "    data = \"%d번째 줄입니다. \\n\"  % i\n",
        "    f.write(data)\n",
        "\n",
        "f.close()"
      ],
      "metadata": {
        "id": "mfzZ3qYRcRd5"
      },
      "execution_count": 16,
      "outputs": []
    },
    {
      "cell_type": "code",
      "source": [
        "# with() 함수 사용해보기\n",
        "# 파일을 열면 (open ) 항상 (close) 닫기 해야 함\n",
        "f = open(\"foo.txt\", 'w')\n",
        "f.write(\"Life is too short, you need python\")\n",
        "f.close()"
      ],
      "metadata": {
        "id": "LscFHHKsdHSI"
      },
      "execution_count": 17,
      "outputs": []
    },
    {
      "cell_type": "code",
      "source": [
        "with open(\"foo.txt\", 'w') as f :\n",
        "    f.write(\"Life is too short, you need python\")\n",
        "    # f. close 자동으로 닫아줌."
      ],
      "metadata": {
        "id": "T2X4rZ1FdpZh"
      },
      "execution_count": 18,
      "outputs": []
    }
  ]
}