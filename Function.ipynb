{
  "nbformat": 4,
  "nbformat_minor": 0,
  "metadata": {
    "colab": {
      "provenance": [],
      "authorship_tag": "ABX9TyObxH6APiXDrwkHFGbBAP9d",
      "include_colab_link": true
    },
    "kernelspec": {
      "name": "python3",
      "display_name": "Python 3"
    },
    "language_info": {
      "name": "python"
    }
  },
  "cells": [
    {
      "cell_type": "markdown",
      "metadata": {
        "id": "view-in-github",
        "colab_type": "text"
      },
      "source": [
        "<a href=\"https://colab.research.google.com/github/jyj0607040607/PythonStudy24/blob/master/Function.ipynb\" target=\"_parent\"><img src=\"https://colab.research.google.com/assets/colab-badge.svg\" alt=\"Open In Colab\"/></a>"
      ]
    },
    {
      "cell_type": "markdown",
      "source": [
        "함수 (function)\n",
        "\n",
        "함수는 단일 동작을 수행하는 블럭을 말한다.\n",
        "자바에서는 {} 블럭 단위로 수행하는데 파이썬은 인터프리터로 줄단위 수행\n",
        "\n",
        "프로그램의 메모리 영역은\n",
        "크게 3가지로 나누어짐\n",
        "\n",
        "스택영역 : 변수에 기본타입이나 참조타입을 연결\n",
        "\n",
        "힙영역 : 객체를 생성해서 주소를 가지고 있음\n",
        "\n",
        "메서드영역 : 동작들을 보관하고 있다가 호출되면 매개값(파라미터)과 처리 후 리턴을 제공 ( 함수나, 메서드를 보관)\n",
        "\n",
        "함수를 사용하는 이유 :\n",
        "반복적인 코드 발생을 최소화 하기 위해서 (CRUD)"
      ],
      "metadata": {
        "id": "Y88ssS_38VNI"
      }
    },
    {
      "cell_type": "code",
      "execution_count": 10,
      "metadata": {
        "colab": {
          "base_uri": "https://localhost:8080/"
        },
        "id": "ctW-N4AW8F1f",
        "outputId": "f5e3a9b7-d146-4a1c-c7ff-5e248354f2d8"
      },
      "outputs": [
        {
          "output_type": "stream",
          "name": "stdout",
          "text": [
            "add()메서드 종료\n",
            "김기원\n"
          ]
        }
      ],
      "source": [
        "# 파이썬 함수의 구조\n",
        "\n",
        "# def (define : 정의) 함수  생성\n",
        "# def 함수이름(매개변수) :\n",
        "#     실행문 1\n",
        "#     실행문 2\n",
        "#     ...\n",
        "\n",
        "def add(a, b):            # add라는 함수를 정의(생성), 매개값은 2개를 받음\n",
        "    print(\"add()메서드 종료\")\n",
        "    return a + b          # 매개값으로 받은 2개의 변수를 더해 리턴함\n",
        "    # add() 종료\n",
        "\n",
        "print(add(\"김\",\"기원\"))"
      ]
    },
    {
      "cell_type": "code",
      "source": [
        "# *args : 매개값이 몇개인지 모를 때 (1개 이상~)\n",
        "\n",
        "def add_many(*args) :     # *args 매개값이 1개 이상!\n",
        "    result = 0            # 결과를 저장하는 변수\n",
        "    for i in args :       # *args는 리스트로 저장이 됨\n",
        "        result += i       # result = result + i\n",
        "    return result         # 결과 리턴\n",
        "\n",
        "print(add_many(1,2,3,4,5,6,7,8,9,))\n",
        "# arge는 관례임(프로그래머들끼리의 약속)"
      ],
      "metadata": {
        "colab": {
          "base_uri": "https://localhost:8080/"
        },
        "id": "iKqATebLKJs1",
        "outputId": "bc5f70db-fc09-4595-f448-92ebe72cbf19"
      },
      "execution_count": 11,
      "outputs": [
        {
          "output_type": "stream",
          "name": "stdout",
          "text": [
            "45\n"
          ]
        }
      ]
    },
    {
      "cell_type": "code",
      "source": [
        "test = add_many(9,8,7,6)\n",
        "print(test)"
      ],
      "metadata": {
        "colab": {
          "base_uri": "https://localhost:8080/"
        },
        "id": "amxvS9s6LP3F",
        "outputId": "4d994fd2-77ad-4905-ff32-7c2e99ab50bb"
      },
      "execution_count": 13,
      "outputs": [
        {
          "output_type": "stream",
          "name": "stdout",
          "text": [
            "30\n"
          ]
        }
      ]
    },
    {
      "cell_type": "code",
      "source": [
        "def add_mul(choice, *args) :\n",
        "    if choice == \"add\" :\n",
        "        result = 0\n",
        "        for i in args :\n",
        "            result += i\n",
        "    elif choice == \"mul\" :\n",
        "        result = 1\n",
        "        for i in args :\n",
        "            result *= i\n",
        "    return result"
      ],
      "metadata": {
        "id": "Sn75M2y6L-ON"
      },
      "execution_count": 15,
      "outputs": []
    },
    {
      "cell_type": "code",
      "source": [
        "result = add_mul('add', 1,2,3,4,5)\n",
        "print(result)"
      ],
      "metadata": {
        "colab": {
          "base_uri": "https://localhost:8080/"
        },
        "id": "RYm99ditNBql",
        "outputId": "3763c9aa-8ed3-4966-fc78-c05526b7ef07"
      },
      "execution_count": 16,
      "outputs": [
        {
          "output_type": "stream",
          "name": "stdout",
          "text": [
            "15\n"
          ]
        }
      ]
    },
    {
      "cell_type": "code",
      "source": [
        "result = add_mul('mul',3,4,5)\n",
        "print(result)"
      ],
      "metadata": {
        "colab": {
          "base_uri": "https://localhost:8080/"
        },
        "id": "PbrDhkwHNS_U",
        "outputId": "eb27c68b-92d0-4629-8bb0-28b8c2e3f2f9"
      },
      "execution_count": 18,
      "outputs": [
        {
          "output_type": "stream",
          "name": "stdout",
          "text": [
            "60\n"
          ]
        }
      ]
    },
    {
      "cell_type": "code",
      "source": [
        "result = add_mul(\"add\", \"김\", \"기\", \"원\")"
      ],
      "metadata": {
        "colab": {
          "base_uri": "https://localhost:8080/",
          "height": 273
        },
        "id": "T4Ex7kgqNm9s",
        "outputId": "78cd584a-a80b-4a96-cbb9-9522671974c0"
      },
      "execution_count": 19,
      "outputs": [
        {
          "output_type": "error",
          "ename": "TypeError",
          "evalue": "unsupported operand type(s) for +=: 'int' and 'str'",
          "traceback": [
            "\u001b[0;31m---------------------------------------------------------------------------\u001b[0m",
            "\u001b[0;31mTypeError\u001b[0m                                 Traceback (most recent call last)",
            "\u001b[0;32m<ipython-input-19-06d274b23461>\u001b[0m in \u001b[0;36m<cell line: 1>\u001b[0;34m()\u001b[0m\n\u001b[0;32m----> 1\u001b[0;31m \u001b[0mresult\u001b[0m \u001b[0;34m=\u001b[0m \u001b[0madd_mul\u001b[0m\u001b[0;34m(\u001b[0m\u001b[0;34m\"add\"\u001b[0m\u001b[0;34m,\u001b[0m \u001b[0;34m\"김\"\u001b[0m\u001b[0;34m,\u001b[0m \u001b[0;34m\"기\"\u001b[0m\u001b[0;34m,\u001b[0m \u001b[0;34m\"원\"\u001b[0m\u001b[0;34m)\u001b[0m\u001b[0;34m\u001b[0m\u001b[0;34m\u001b[0m\u001b[0m\n\u001b[0m",
            "\u001b[0;32m<ipython-input-15-557c000e27e8>\u001b[0m in \u001b[0;36madd_mul\u001b[0;34m(choice, *args)\u001b[0m\n\u001b[1;32m      3\u001b[0m         \u001b[0mresult\u001b[0m \u001b[0;34m=\u001b[0m \u001b[0;36m0\u001b[0m\u001b[0;34m\u001b[0m\u001b[0;34m\u001b[0m\u001b[0m\n\u001b[1;32m      4\u001b[0m         \u001b[0;32mfor\u001b[0m \u001b[0mi\u001b[0m \u001b[0;32min\u001b[0m \u001b[0margs\u001b[0m \u001b[0;34m:\u001b[0m\u001b[0;34m\u001b[0m\u001b[0;34m\u001b[0m\u001b[0m\n\u001b[0;32m----> 5\u001b[0;31m             \u001b[0mresult\u001b[0m \u001b[0;34m+=\u001b[0m \u001b[0mi\u001b[0m\u001b[0;34m\u001b[0m\u001b[0;34m\u001b[0m\u001b[0m\n\u001b[0m\u001b[1;32m      6\u001b[0m     \u001b[0;32melif\u001b[0m \u001b[0mchoice\u001b[0m \u001b[0;34m==\u001b[0m \u001b[0;34m\"mul\"\u001b[0m \u001b[0;34m:\u001b[0m\u001b[0;34m\u001b[0m\u001b[0;34m\u001b[0m\u001b[0m\n\u001b[1;32m      7\u001b[0m         \u001b[0mresult\u001b[0m \u001b[0;34m=\u001b[0m \u001b[0;36m1\u001b[0m\u001b[0;34m\u001b[0m\u001b[0;34m\u001b[0m\u001b[0m\n",
            "\u001b[0;31mTypeError\u001b[0m: unsupported operand type(s) for +=: 'int' and 'str'"
          ]
        }
      ]
    },
    {
      "cell_type": "code",
      "source": [
        "# **kwargs : 키워드 매개변수 (딕셔너리)\n",
        "\n",
        "def print_kwargs(**kwargs) :\n",
        "    print(kwargs)\n",
        "\n",
        "print_kwargs(kkw=312)"
      ],
      "metadata": {
        "colab": {
          "base_uri": "https://localhost:8080/"
        },
        "id": "djMULRFsOxHt",
        "outputId": "3ea6391d-097c-4752-d3ac-3e94ee0fbfba"
      },
      "execution_count": 20,
      "outputs": [
        {
          "output_type": "stream",
          "name": "stdout",
          "text": [
            "{'kkw': 312}\n"
          ]
        }
      ]
    },
    {
      "cell_type": "code",
      "source": [
        "print_kwargs(id=\"jyj\", pw=\"jyj060704*\", phone=9625, email=\"jyj060704@naver.com\")"
      ],
      "metadata": {
        "colab": {
          "base_uri": "https://localhost:8080/"
        },
        "id": "tH47K-D3PhIE",
        "outputId": "24456719-481f-444f-fcd8-2c8797289948"
      },
      "execution_count": 21,
      "outputs": [
        {
          "output_type": "stream",
          "name": "stdout",
          "text": [
            "{'id': 'jyj', 'pw': 'jyj060704*', 'phone': 9625, 'email': 'jyj060704@naver.com'}\n"
          ]
        }
      ]
    },
    {
      "cell_type": "code",
      "source": [
        "# 만약 리턴 값이 2개???\n",
        "\n",
        "def add_and_mul(a,b) :\n",
        "    return a+b, a*b, a-b\n",
        "\n",
        "a, b, c = add_and_mul(3,4)\n",
        "print(a)\n",
        "print(b)\n",
        "print(c)"
      ],
      "metadata": {
        "colab": {
          "base_uri": "https://localhost:8080/"
        },
        "id": "QctlIBSqQS4U",
        "outputId": "631d3972-c6d5-4459-e541-5d357178239d"
      },
      "execution_count": 24,
      "outputs": [
        {
          "output_type": "stream",
          "name": "stdout",
          "text": [
            "7\n",
            "12\n",
            "-1\n"
          ]
        }
      ]
    },
    {
      "cell_type": "code",
      "source": [
        "def say_myself(name, old, man=False) :\n",
        "    print(\"나의 이름은 %s 입니다.\" %name)\n",
        "    print(\"나의 나이는 %d 입니다.\" %old)\n",
        "    if man :\n",
        "        print(\"남자입니다.\")\n",
        "    else:\n",
        "        print(\"여자입니다.\")\n",
        "say_myself(\"장윤진\", 21)"
      ],
      "metadata": {
        "colab": {
          "base_uri": "https://localhost:8080/"
        },
        "id": "YQmR36RRRMzs",
        "outputId": "df3295fe-fa96-4213-984a-e9f36b35bb3a"
      },
      "execution_count": 27,
      "outputs": [
        {
          "output_type": "stream",
          "name": "stdout",
          "text": [
            "나의 이름은 장윤진 입니다.\n",
            "나의 나이는 21 입니다.\n",
            "여자입니다.\n"
          ]
        }
      ]
    },
    {
      "cell_type": "code",
      "source": [
        "# 람다식 : 인터페이스형태의 실행문이 1개인 코드\n",
        "# 자바에서 람다식은 -> 사용하고 자바스크립트 => 사용\n",
        "# 파이썬의 람다식은\n",
        "# 변수(함수명) = lambdy 매개변ㄴ수 : 실행문\n",
        "add = lambda a, b : a + b\n",
        "result = add(3,4)\n",
        "print(result)"
      ],
      "metadata": {
        "colab": {
          "base_uri": "https://localhost:8080/"
        },
        "id": "H_oMmc1DSdn8",
        "outputId": "5115ffcf-c19b-4788-c492-65c92bfe8903"
      },
      "execution_count": 28,
      "outputs": [
        {
          "output_type": "stream",
          "name": "stdout",
          "text": [
            "7\n"
          ]
        }
      ]
    },
    {
      "cell_type": "code",
      "source": [
        "# 미션\n",
        "# 자판기 코드를 함수로 리빌드 진행"
      ],
      "metadata": {
        "id": "GANLgW17Tp-E"
      },
      "execution_count": 3,
      "outputs": []
    }
  ]
}