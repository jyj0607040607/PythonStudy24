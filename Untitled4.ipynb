{
  "nbformat": 4,
  "nbformat_minor": 0,
  "metadata": {
    "colab": {
      "provenance": [],
      "authorship_tag": "ABX9TyN+TQ9G4r1qFqFJL4mEqjbP",
      "include_colab_link": true
    },
    "kernelspec": {
      "name": "python3",
      "display_name": "Python 3"
    },
    "language_info": {
      "name": "python"
    }
  },
  "cells": [
    {
      "cell_type": "markdown",
      "metadata": {
        "id": "view-in-github",
        "colab_type": "text"
      },
      "source": [
        "<a href=\"https://colab.research.google.com/github/jyj0607040607/PythonStudy24/blob/master/Untitled4.ipynb\" target=\"_parent\"><img src=\"https://colab.research.google.com/assets/colab-badge.svg\" alt=\"Open In Colab\"/></a>"
      ]
    },
    {
      "cell_type": "code",
      "execution_count": 2,
      "metadata": {
        "colab": {
          "base_uri": "https://localhost:8080/"
        },
        "id": "kWfrct_4qC9I",
        "outputId": "3d66fca6-4d0d-4342-acaf-a22cd70861b4"
      },
      "outputs": [
        {
          "output_type": "stream",
          "name": "stdout",
          "text": [
            "3\n",
            "7\n"
          ]
        }
      ],
      "source": [
        "# calculator.py\n",
        "result = 0\n",
        "\n",
        "def add(num):\n",
        "  global result\n",
        "  result += num   # 결괏값(result)에 입력값(num) 더하기\n",
        "  return result   # 결괏값 리턴\n",
        "\n",
        "print(add(3))\n",
        "print(add(4))"
      ]
    },
    {
      "cell_type": "code",
      "source": [
        "result1 = 0\n",
        "result2 = 0\n",
        "\n",
        "def add1(num):    # 계산기1\n",
        "    global result1\n",
        "    result1 + num\n",
        "    result1 += num\n",
        "    return result1\n",
        "\n",
        "def add2(num):  # 계산기2\n",
        "       global result2\n",
        "       result2 += num\n",
        "       return result2\n",
        "\n",
        "print(add1(3))\n",
        "print(add1(4))\n",
        "print(add2(3))\n",
        "print(add2(7))"
      ],
      "metadata": {
        "colab": {
          "base_uri": "https://localhost:8080/"
        },
        "id": "IWpIrWGAx_dZ",
        "outputId": "5495cb21-b857-4044-ba4f-cf92884c1293"
      },
      "execution_count": 9,
      "outputs": [
        {
          "output_type": "stream",
          "name": "stdout",
          "text": [
            "3\n",
            "7\n",
            "3\n",
            "10\n"
          ]
        }
      ]
    },
    {
      "cell_type": "code",
      "source": [],
      "metadata": {
        "id": "uPQ41IcA1k4R"
      },
      "execution_count": null,
      "outputs": []
    }
  ]
}