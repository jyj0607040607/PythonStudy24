{
  "nbformat": 4,
  "nbformat_minor": 0,
  "metadata": {
    "colab": {
      "provenance": [],
      "authorship_tag": "ABX9TyNYxslG3jZenodsIvcdDzhV",
      "include_colab_link": true
    },
    "kernelspec": {
      "name": "python3",
      "display_name": "Python 3"
    },
    "language_info": {
      "name": "python"
    }
  },
  "cells": [
    {
      "cell_type": "markdown",
      "metadata": {
        "id": "view-in-github",
        "colab_type": "text"
      },
      "source": [
        "<a href=\"https://colab.research.google.com/github/jyj0607040607/PythonStudy24/blob/master/bulletin_board.ipynb\" target=\"_parent\"><img src=\"https://colab.research.google.com/assets/colab-badge.svg\" alt=\"Open In Colab\"/></a>"
      ]
    },
    {
      "cell_type": "code",
      "execution_count": null,
      "metadata": {
        "id": "xYxNWGRZE8l3"
      },
      "outputs": [],
      "source": [
        "# 총 페이지 수 = (총 게시물 개수 / 한 페이지당 보여 줄 개수) + 1"
      ]
    },
    {
      "cell_type": "code",
      "source": [
        "def get_total_page(m, n):\n",
        "    return m // n + 1  # m을 n으로 나눌 때 소수점 아래 자리를 버리기 위해 // 연산자 사용\n",
        "\n",
        "print(get_total_page(5, 10))    # 1 출력\n",
        "print(get_total_page(15, 10))   # 2 출력\n",
        "print(get_total_page(25, 10))   # 3 출력\n",
        "print(get_total_page(30, 10))   # 4 출력\n"
      ],
      "metadata": {
        "colab": {
          "base_uri": "https://localhost:8080/"
        },
        "id": "4p0pJTMLFEs-",
        "outputId": "2b8d61cd-debe-4dee-bfe9-7bcd77470922"
      },
      "execution_count": 2,
      "outputs": [
        {
          "output_type": "stream",
          "name": "stdout",
          "text": [
            "1\n",
            "2\n",
            "3\n",
            "4\n"
          ]
        }
      ]
    },
    {
      "cell_type": "code",
      "source": [
        "def get_total_page(m,n) :\n",
        "    if m % n == 0 :\n",
        "        return m // n\n",
        "    else :\n",
        "        return m // n + 1\n",
        "\n",
        "print(get_total_page(5, 10))\n",
        "print(get_total_page(15,10))\n",
        "print(get_total_page(25,10))\n",
        "print(get_total_page(30,10))      # 3 출력"
      ],
      "metadata": {
        "colab": {
          "base_uri": "https://localhost:8080/"
        },
        "id": "KVa8J4R7ZIId",
        "outputId": "154c6d58-a2b2-4e08-b85d-3efe9ce546cf"
      },
      "execution_count": 4,
      "outputs": [
        {
          "output_type": "stream",
          "name": "stdout",
          "text": [
            "1\n",
            "2\n",
            "3\n",
            "3\n"
          ]
        }
      ]
    }
  ]
}